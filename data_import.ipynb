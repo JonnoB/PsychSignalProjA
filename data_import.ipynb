{
 "cells": [
  {
   "cell_type": "code",
   "execution_count": 3,
   "metadata": {
    "collapsed": false
   },
   "outputs": [],
   "source": [
    "import pandas as pd\n",
    "import numpy as np\n",
    "from matplotlib import pyplot as plt\n",
    "path=\"C:\\\\Users\\\\stan\\\\Google Drive\\\\MSc BA\\\\Courses\\\\Data Analytics\\\\Data\\\\\"\n",
    "sym_file=\"symbology.csv\"\n",
    "pureTwt='twitter_noretweets_daily.csv'\n",
    "reTwt='twitter_withretweets_daily.csv'\n",
    "stockTwt='stocktwits_daily.csv'"
   ]
  },
  {
   "cell_type": "code",
   "execution_count": 4,
   "metadata": {
    "collapsed": false
   },
   "outputs": [],
   "source": [
    "sym=pd.read_csv(filepath_or_buffer=path+sym_file,delimiter=\",\",header=0)"
   ]
  },
  {
   "cell_type": "code",
   "execution_count": 5,
   "metadata": {
    "collapsed": false
   },
   "outputs": [],
   "source": [
    "ptwt=pd.read_csv(filepath_or_buffer=path+pureTwt,delimiter=\",\",header=0)"
   ]
  },
  {
   "cell_type": "code",
   "execution_count": null,
   "metadata": {
    "collapsed": true
   },
   "outputs": [],
   "source": [
    "rtwt=pd.read_csv(filepath_or_buffer=path+reTwt,delimiter=\",\",header=0)"
   ]
  },
  {
   "cell_type": "code",
   "execution_count": 7,
   "metadata": {
    "collapsed": true
   },
   "outputs": [],
   "source": [
    "stwt=pd.read_csv(filepath_or_buffer=path+stockTwt,delimiter=\",\",header=0)"
   ]
  },
  {
   "cell_type": "code",
   "execution_count": 93,
   "metadata": {
    "collapsed": true
   },
   "outputs": [],
   "source": [
    "#make a sample of observations for tests\n",
    "spl_ptwt=ptwt.sample(1000)"
   ]
  },
  {
   "cell_type": "code",
   "execution_count": null,
   "metadata": {
    "collapsed": false,
    "scrolled": true
   },
   "outputs": [],
   "source": []
  },
  {
   "cell_type": "code",
   "execution_count": 104,
   "metadata": {
    "collapsed": false
   },
   "outputs": [
    {
     "name": "stdout",
     "output_type": "stream",
     "text": [
      "                     SOURCE SYMBOL         TIMESTAMP_UTC  BULLISH_INTENSITY  \\\n",
      "2836434  twitter_noretweets    KKD  2010-12-29T05:00:00Z               0.00   \n",
      "3903362  twitter_noretweets    PMF  2010-12-14T05:00:00Z               2.39   \n",
      "3650312  twitter_noretweets   OJ_F  2010-12-17T05:00:00Z               0.00   \n",
      "395676   twitter_noretweets     AT  2010-12-15T05:00:00Z               0.00   \n",
      "4185366  twitter_noretweets   RLOC  2010-12-24T05:00:00Z               0.00   \n",
      "\n",
      "         BEARISH_INTENSITY  BULL_MINUS_BEAR  BULL_SCORED_MESSAGES  \\\n",
      "2836434               2.63            -2.63                     0   \n",
      "3903362               0.00             2.39                     4   \n",
      "3650312               0.00             0.00                     0   \n",
      "395676                0.00             0.00                     0   \n",
      "4185366               0.00             0.00                     0   \n",
      "\n",
      "         BEAR_SCORED_MESSAGES  BULL_BEAR_MSG_RATIO  TOTAL_SCANNED_MESSAGES  \\\n",
      "2836434                     2                    0                       6   \n",
      "3903362                     0                    0                       4   \n",
      "3650312                     0                    0                       1   \n",
      "395676                      0                    0                       1   \n",
      "4185366                     0                    0                       1   \n",
      "\n",
      "                       date  \n",
      "2836434 2010-12-29 05:00:00  \n",
      "3903362 2010-12-14 05:00:00  \n",
      "3650312 2010-12-17 05:00:00  \n",
      "395676  2010-12-15 05:00:00  \n",
      "4185366 2010-12-24 05:00:00  \n"
     ]
    }
   ],
   "source": [
    "time=pd.to_datetime(arg=spl_ptwt.TIMESTAMP_UTC,infer_datetime_format='true')\n",
    "df=spl_ptwt.copy()\n",
    "df['date']=time\n",
    "mask = (df['date'] > '2010-1-1') & (df['date'] < '2011-1-1')\n",
    "print(df.loc[mask].head())"
   ]
  },
  {
   "cell_type": "code",
   "execution_count": 107,
   "metadata": {
    "collapsed": false
   },
   "outputs": [
    {
     "data": {
      "text/plain": [
       "1     34\n",
       "2     40\n",
       "3     37\n",
       "4     29\n",
       "5     29\n",
       "6     29\n",
       "7     38\n",
       "8     30\n",
       "9     22\n",
       "10    37\n",
       "11    29\n",
       "12    35\n",
       "13    31\n",
       "14    33\n",
       "15    36\n",
       "16    30\n",
       "17    39\n",
       "18    17\n",
       "19    23\n",
       "20    29\n",
       "21    33\n",
       "22    35\n",
       "23    33\n",
       "24    40\n",
       "25    31\n",
       "26    45\n",
       "27    43\n",
       "28    31\n",
       "29    37\n",
       "30    30\n",
       "31    15\n",
       "dtype: int64"
      ]
     },
     "execution_count": 107,
     "metadata": {},
     "output_type": "execute_result"
    }
   ],
   "source": [
    "df.groupby(df['date'].dt.day).agg({})"
   ]
  },
  {
   "cell_type": "code",
   "execution_count": null,
   "metadata": {
    "collapsed": true
   },
   "outputs": [],
   "source": [
    "#print([x.year for x in time])"
   ]
  },
  {
   "cell_type": "code",
   "execution_count": 102,
   "metadata": {
    "collapsed": false,
    "scrolled": true
   },
   "outputs": [
    {
     "ename": "SyntaxError",
     "evalue": "invalid syntax (<ipython-input-102-b38a428e54c8>, line 3)",
     "output_type": "error",
     "traceback": [
      "\u001b[1;36m  File \u001b[1;32m\"<ipython-input-102-b38a428e54c8>\"\u001b[1;36m, line \u001b[1;32m3\u001b[0m\n\u001b[1;33m    spl_ptwt.loc[mask]\u001b[0m\n\u001b[1;37m           ^\u001b[0m\n\u001b[1;31mSyntaxError\u001b[0m\u001b[1;31m:\u001b[0m invalid syntax\n"
     ]
    }
   ],
   "source": [
    "year=pd.Period('2010')\n",
    "mask = (spl_ptwt.TIMESTAMP_UTC > datetime(2010,1,1) & (spl_ptwt.TIMESTAMP_UTC < datetime(2016,1,1)\n",
    "spl_ptwt.loc[mask]"
   ]
  },
  {
   "cell_type": "code",
   "execution_count": 100,
   "metadata": {
    "collapsed": false
   },
   "outputs": [
    {
     "name": "stdout",
     "output_type": "stream",
     "text": [
      "3838081    False\n",
      "2452017    False\n",
      "1071254    False\n",
      "1752087    False\n",
      "252418     False\n",
      "5427807    False\n",
      "4924759    False\n",
      "1701903    False\n",
      "4288656    False\n",
      "1721912    False\n",
      "2160849    False\n",
      "5399157    False\n",
      "665179     False\n",
      "4217660    False\n",
      "399781     False\n",
      "3085960    False\n",
      "5371363    False\n",
      "3419710    False\n",
      "2928491    False\n",
      "3638781    False\n",
      "4636966    False\n",
      "5363585    False\n",
      "4048398    False\n",
      "3874683    False\n",
      "1404534    False\n",
      "3950076    False\n",
      "1764341    False\n",
      "3440070    False\n",
      "3963345    False\n",
      "1762998    False\n",
      "           ...  \n",
      "1518840    False\n",
      "2907981    False\n",
      "4303255    False\n",
      "4198587    False\n",
      "3702907    False\n",
      "1404259    False\n",
      "2262191    False\n",
      "297593     False\n",
      "2829824    False\n",
      "999971     False\n",
      "5253771    False\n",
      "835531     False\n",
      "3898886    False\n",
      "759686     False\n",
      "82874      False\n",
      "5106884    False\n",
      "2483705    False\n",
      "4225942    False\n",
      "5031379    False\n",
      "801431     False\n",
      "5202527    False\n",
      "4736247    False\n",
      "2913922    False\n",
      "2299129    False\n",
      "1460479    False\n",
      "4936327    False\n",
      "1728860    False\n",
      "2591069    False\n",
      "4570320    False\n",
      "458739     False\n",
      "Name: date, dtype: bool\n"
     ]
    }
   ],
   "source": [
    "print(mask)"
   ]
  },
  {
   "cell_type": "code",
   "execution_count": 66,
   "metadata": {
    "collapsed": false
   },
   "outputs": [
    {
     "data": {
      "text/plain": [
       "1    2\n",
       "3    a\n",
       "dtype: object"
      ]
     },
     "execution_count": 66,
     "metadata": {},
     "output_type": "execute_result"
    }
   ],
   "source": [
    "s=pd.Series([1,2,3,'a'])\n",
    "s[(s==2) | (s=='a')]"
   ]
  },
  {
   "cell_type": "code",
   "execution_count": 116,
   "metadata": {
    "collapsed": false
   },
   "outputs": [
    {
     "ename": "TypeError",
     "evalue": "Cannot compare type 'Timestamp' with type 'Period'",
     "output_type": "error",
     "traceback": [
      "\u001b[1;31m---------------------------------------------------------------------------\u001b[0m",
      "\u001b[1;31mTypeError\u001b[0m                                 Traceback (most recent call last)",
      "\u001b[1;32m<ipython-input-116-3c8001b37f70>\u001b[0m in \u001b[0;36m<module>\u001b[1;34m()\u001b[0m\n\u001b[0;32m      1\u001b[0m \u001b[0myear\u001b[0m\u001b[1;33m=\u001b[0m\u001b[0mpd\u001b[0m\u001b[1;33m.\u001b[0m\u001b[0mPeriod\u001b[0m\u001b[1;33m(\u001b[0m\u001b[1;34m'2010'\u001b[0m\u001b[1;33m)\u001b[0m\u001b[1;33m\u001b[0m\u001b[0m\n\u001b[0;32m      2\u001b[0m \u001b[0mday\u001b[0m\u001b[1;33m=\u001b[0m\u001b[0mpd\u001b[0m\u001b[1;33m.\u001b[0m\u001b[0mTimestamp\u001b[0m\u001b[1;33m(\u001b[0m\u001b[1;34m'2010-01-01'\u001b[0m\u001b[1;33m)\u001b[0m\u001b[1;33m\u001b[0m\u001b[0m\n\u001b[1;32m----> 3\u001b[1;33m \u001b[0mday\u001b[0m\u001b[1;33m<=\u001b[0m\u001b[0myear\u001b[0m\u001b[1;33m\u001b[0m\u001b[0m\n\u001b[0m",
      "\u001b[1;32mpandas\\tslib.pyx\u001b[0m in \u001b[0;36mpandas.tslib._Timestamp.__richcmp__ (pandas\\tslib.c:15612)\u001b[1;34m()\u001b[0m\n",
      "\u001b[1;31mTypeError\u001b[0m: Cannot compare type 'Timestamp' with type 'Period'"
     ]
    }
   ],
   "source": [
    "year=pd.Period('2010')\n",
    "day=pd.Timestamp('2010-01-01')\n",
    "day<=year"
   ]
  }
 ],
 "metadata": {
  "kernelspec": {
   "display_name": "Python 3",
   "language": "python",
   "name": "python3"
  },
  "language_info": {
   "codemirror_mode": {
    "name": "ipython",
    "version": 3
   },
   "file_extension": ".py",
   "mimetype": "text/x-python",
   "name": "python",
   "nbconvert_exporter": "python",
   "pygments_lexer": "ipython3",
   "version": "3.4.3"
  }
 },
 "nbformat": 4,
 "nbformat_minor": 0
}
