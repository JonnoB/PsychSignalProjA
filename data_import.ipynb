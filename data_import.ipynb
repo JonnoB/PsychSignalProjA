{
 "cells": [
  {
   "cell_type": "code",
   "execution_count": 1,
   "metadata": {
    "collapsed": false
   },
   "outputs": [],
   "source": [
    "import pandas as pd\n",
    "import numpy as np\n",
    "path=\"C:\\\\Users\\\\stan\\\\Google Drive\\\\MSc BA\\\\Courses\\\\Data Analytics\\\\Data\\\\\"\n",
    "sym_file=\"symbology.csv\"\n",
    "pureTwt='twitter_noretweets_daily.csv'\n",
    "reTwt='twitter_withretweets_daily.csv'\n",
    "stockTwt='stocktwits_daily.csv'"
   ]
  },
  {
   "cell_type": "code",
   "execution_count": 2,
   "metadata": {
    "collapsed": false
   },
   "outputs": [],
   "source": [
    "sym=pd.read_csv(filepath_or_buffer=path+sym_file,delimiter=\",\",header=0)"
   ]
  },
  {
   "cell_type": "code",
   "execution_count": 15,
   "metadata": {
    "collapsed": false
   },
   "outputs": [],
   "source": [
    "ptwt=pd.read_csv(filepath_or_buffer=path+pureTwt,delimiter=\",\",header=0)"
   ]
  },
  {
   "cell_type": "code",
   "execution_count": null,
   "metadata": {
    "collapsed": true
   },
   "outputs": [],
   "source": [
    "rtwt=pd.read_csv(filepath_or_buffer=path+reTwt,delimiter=\",\",header=0)"
   ]
  },
  {
   "cell_type": "code",
   "execution_count": null,
   "metadata": {
    "collapsed": true
   },
   "outputs": [],
   "source": [
    "stwt=pd.read_csv(filepath_or_buffer=path+stockTwt,delimiter=\",\",header=0)"
   ]
  },
  {
   "cell_type": "code",
   "execution_count": 26,
   "metadata": {
    "collapsed": false,
    "scrolled": false
   },
   "outputs": [
    {
     "data": {
      "text/plain": [
       "Index(['SOURCE', 'SYMBOL', 'TIMESTAMP_UTC', 'BULLISH_INTENSITY',\n",
       "       'BEARISH_INTENSITY', 'BULL_MINUS_BEAR', 'BULL_SCORED_MESSAGES',\n",
       "       'BEAR_SCORED_MESSAGES', 'BULL_BEAR_MSG_RATIO',\n",
       "       'TOTAL_SCANNED_MESSAGES'],\n",
       "      dtype='object')"
      ]
     },
     "execution_count": 26,
     "metadata": {},
     "output_type": "execute_result"
    }
   ],
   "source": [
    "ptwt.columns"
   ]
  },
  {
   "cell_type": "code",
   "execution_count": null,
   "metadata": {
    "collapsed": true
   },
   "outputs": [],
   "source": []
  },
  {
   "cell_type": "code",
   "execution_count": 65,
   "metadata": {
    "collapsed": false
   },
   "outputs": [],
   "source": [
    "time=pd.to_datetime(arg=twtdaily.TIMESTAMP_UTC,infer_datetime_format='true')\n",
    "#print(time)"
   ]
  },
  {
   "cell_type": "code",
   "execution_count": 66,
   "metadata": {
    "collapsed": false
   },
   "outputs": [],
   "source": [
    "#print([x.year for x in time])"
   ]
  },
  {
   "cell_type": "code",
   "execution_count": null,
   "metadata": {
    "collapsed": true
   },
   "outputs": [],
   "source": []
  }
 ],
 "metadata": {
  "kernelspec": {
   "display_name": "Python 3",
   "language": "python",
   "name": "python3"
  },
  "language_info": {
   "codemirror_mode": {
    "name": "ipython",
    "version": 3
   },
   "file_extension": ".py",
   "mimetype": "text/x-python",
   "name": "python",
   "nbconvert_exporter": "python",
   "pygments_lexer": "ipython3",
   "version": "3.4.3"
  }
 },
 "nbformat": 4,
 "nbformat_minor": 0
}
