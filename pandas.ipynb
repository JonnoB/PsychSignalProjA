{
 "cells": [
  {
   "cell_type": "code",
   "execution_count": 3,
   "metadata": {
    "collapsed": false
   },
   "outputs": [],
   "source": [
    "import pandas as pd\n",
    "import numpy as np\n",
    "import matplotlib\n",
    "import matplotlib.pyplot as plt\n",
    "matplotlib.style.use('ggplot')"
   ]
  },
  {
   "cell_type": "code",
   "execution_count": 2,
   "metadata": {
    "collapsed": true
   },
   "outputs": [],
   "source": [
    "#how to create a Series\n",
    "s=pd.Series([1,3,4,np.nan,5,8])"
   ]
  },
  {
   "cell_type": "code",
   "execution_count": 3,
   "metadata": {
    "collapsed": false
   },
   "outputs": [
    {
     "data": {
      "text/plain": [
       "0     1\n",
       "1     3\n",
       "2     4\n",
       "3   NaN\n",
       "4     5\n",
       "5     8\n",
       "dtype: float64"
      ]
     },
     "execution_count": 3,
     "metadata": {},
     "output_type": "execute_result"
    }
   ],
   "source": [
    "s"
   ]
  },
  {
   "cell_type": "code",
   "execution_count": null,
   "metadata": {
    "collapsed": true
   },
   "outputs": [],
   "source": [
    "s=pd.Series([1,2,3,'a'])\n",
    "s[(s==2) | (s=='a')]"
   ]
  },
  {
   "cell_type": "code",
   "execution_count": 4,
   "metadata": {
    "collapsed": false
   },
   "outputs": [],
   "source": [
    "#how to create a DataFrame\n",
    "dates=pd.date_range('20000101',periods=9)\n",
    "df=pd.DataFrame(np.random.randn(9,4),index=dates,columns=list('ABCD'))"
   ]
  },
  {
   "cell_type": "code",
   "execution_count": 5,
   "metadata": {
    "collapsed": false
   },
   "outputs": [
    {
     "data": {
      "text/html": [
       "<div>\n",
       "<table border=\"1\" class=\"dataframe\">\n",
       "  <thead>\n",
       "    <tr style=\"text-align: right;\">\n",
       "      <th></th>\n",
       "      <th>A</th>\n",
       "      <th>B</th>\n",
       "      <th>C</th>\n",
       "      <th>D</th>\n",
       "    </tr>\n",
       "  </thead>\n",
       "  <tbody>\n",
       "    <tr>\n",
       "      <th>2000-01-01</th>\n",
       "      <td>-0.626526</td>\n",
       "      <td>1.064204</td>\n",
       "      <td>0.758754</td>\n",
       "      <td>-0.094312</td>\n",
       "    </tr>\n",
       "    <tr>\n",
       "      <th>2000-01-02</th>\n",
       "      <td>-1.454424</td>\n",
       "      <td>1.131540</td>\n",
       "      <td>0.811271</td>\n",
       "      <td>0.437446</td>\n",
       "    </tr>\n",
       "    <tr>\n",
       "      <th>2000-01-03</th>\n",
       "      <td>-2.124844</td>\n",
       "      <td>-0.104766</td>\n",
       "      <td>-0.560157</td>\n",
       "      <td>-0.585750</td>\n",
       "    </tr>\n",
       "    <tr>\n",
       "      <th>2000-01-04</th>\n",
       "      <td>1.715515</td>\n",
       "      <td>1.776434</td>\n",
       "      <td>-0.198821</td>\n",
       "      <td>-0.099444</td>\n",
       "    </tr>\n",
       "    <tr>\n",
       "      <th>2000-01-05</th>\n",
       "      <td>-0.916787</td>\n",
       "      <td>0.291477</td>\n",
       "      <td>-0.765149</td>\n",
       "      <td>-0.716568</td>\n",
       "    </tr>\n",
       "    <tr>\n",
       "      <th>2000-01-06</th>\n",
       "      <td>-0.527358</td>\n",
       "      <td>0.360792</td>\n",
       "      <td>0.727671</td>\n",
       "      <td>-0.597690</td>\n",
       "    </tr>\n",
       "    <tr>\n",
       "      <th>2000-01-07</th>\n",
       "      <td>-0.781677</td>\n",
       "      <td>-2.238795</td>\n",
       "      <td>1.889409</td>\n",
       "      <td>-1.165917</td>\n",
       "    </tr>\n",
       "    <tr>\n",
       "      <th>2000-01-08</th>\n",
       "      <td>0.984271</td>\n",
       "      <td>0.718493</td>\n",
       "      <td>-0.863216</td>\n",
       "      <td>-0.011764</td>\n",
       "    </tr>\n",
       "    <tr>\n",
       "      <th>2000-01-09</th>\n",
       "      <td>0.760738</td>\n",
       "      <td>-1.775634</td>\n",
       "      <td>-1.165323</td>\n",
       "      <td>-1.288016</td>\n",
       "    </tr>\n",
       "  </tbody>\n",
       "</table>\n",
       "</div>"
      ],
      "text/plain": [
       "                   A         B         C         D\n",
       "2000-01-01 -0.626526  1.064204  0.758754 -0.094312\n",
       "2000-01-02 -1.454424  1.131540  0.811271  0.437446\n",
       "2000-01-03 -2.124844 -0.104766 -0.560157 -0.585750\n",
       "2000-01-04  1.715515  1.776434 -0.198821 -0.099444\n",
       "2000-01-05 -0.916787  0.291477 -0.765149 -0.716568\n",
       "2000-01-06 -0.527358  0.360792  0.727671 -0.597690\n",
       "2000-01-07 -0.781677 -2.238795  1.889409 -1.165917\n",
       "2000-01-08  0.984271  0.718493 -0.863216 -0.011764\n",
       "2000-01-09  0.760738 -1.775634 -1.165323 -1.288016"
      ]
     },
     "execution_count": 5,
     "metadata": {},
     "output_type": "execute_result"
    }
   ],
   "source": [
    "df"
   ]
  },
  {
   "cell_type": "code",
   "execution_count": 18,
   "metadata": {
    "collapsed": false
   },
   "outputs": [
    {
     "data": {
      "text/html": [
       "<div>\n",
       "<table border=\"1\" class=\"dataframe\">\n",
       "  <thead>\n",
       "    <tr style=\"text-align: right;\">\n",
       "      <th></th>\n",
       "      <th>A</th>\n",
       "      <th>B</th>\n",
       "      <th>C</th>\n",
       "      <th>D</th>\n",
       "    </tr>\n",
       "  </thead>\n",
       "  <tbody>\n",
       "    <tr>\n",
       "      <th>2000-01-01</th>\n",
       "      <td>0.193471</td>\n",
       "      <td>-0.219542</td>\n",
       "      <td>1.419361</td>\n",
       "      <td>-0.990787</td>\n",
       "    </tr>\n",
       "    <tr>\n",
       "      <th>2000-01-02</th>\n",
       "      <td>0.422947</td>\n",
       "      <td>0.026119</td>\n",
       "      <td>0.834805</td>\n",
       "      <td>0.599021</td>\n",
       "    </tr>\n",
       "    <tr>\n",
       "      <th>2000-01-03</th>\n",
       "      <td>1.929653</td>\n",
       "      <td>-0.198232</td>\n",
       "      <td>-0.153435</td>\n",
       "      <td>0.382690</td>\n",
       "    </tr>\n",
       "    <tr>\n",
       "      <th>2000-01-04</th>\n",
       "      <td>0.187155</td>\n",
       "      <td>0.187613</td>\n",
       "      <td>1.242034</td>\n",
       "      <td>-1.188389</td>\n",
       "    </tr>\n",
       "  </tbody>\n",
       "</table>\n",
       "</div>"
      ],
      "text/plain": [
       "                   A         B         C         D\n",
       "2000-01-01  0.193471 -0.219542  1.419361 -0.990787\n",
       "2000-01-02  0.422947  0.026119  0.834805  0.599021\n",
       "2000-01-03  1.929653 -0.198232 -0.153435  0.382690\n",
       "2000-01-04  0.187155  0.187613  1.242034 -1.188389"
      ]
     },
     "execution_count": 18,
     "metadata": {},
     "output_type": "execute_result"
    }
   ],
   "source": [
    "df['2000-01':'2000-01-04']"
   ]
  },
  {
   "cell_type": "code",
   "execution_count": 19,
   "metadata": {
    "collapsed": false
   },
   "outputs": [
    {
     "data": {
      "text/html": [
       "<div>\n",
       "<table border=\"1\" class=\"dataframe\">\n",
       "  <thead>\n",
       "    <tr style=\"text-align: right;\">\n",
       "      <th></th>\n",
       "      <th>A</th>\n",
       "      <th>B</th>\n",
       "      <th>C</th>\n",
       "      <th>D</th>\n",
       "    </tr>\n",
       "  </thead>\n",
       "  <tbody>\n",
       "    <tr>\n",
       "      <th>2000-01-01</th>\n",
       "      <td>0.193471</td>\n",
       "      <td>-0.219542</td>\n",
       "      <td>1.419361</td>\n",
       "      <td>-0.990787</td>\n",
       "    </tr>\n",
       "    <tr>\n",
       "      <th>2000-01-02</th>\n",
       "      <td>0.422947</td>\n",
       "      <td>0.026119</td>\n",
       "      <td>0.834805</td>\n",
       "      <td>0.599021</td>\n",
       "    </tr>\n",
       "    <tr>\n",
       "      <th>2000-01-03</th>\n",
       "      <td>1.929653</td>\n",
       "      <td>-0.198232</td>\n",
       "      <td>-0.153435</td>\n",
       "      <td>0.382690</td>\n",
       "    </tr>\n",
       "    <tr>\n",
       "      <th>2000-01-04</th>\n",
       "      <td>0.187155</td>\n",
       "      <td>0.187613</td>\n",
       "      <td>1.242034</td>\n",
       "      <td>-1.188389</td>\n",
       "    </tr>\n",
       "    <tr>\n",
       "      <th>2000-01-05</th>\n",
       "      <td>0.904376</td>\n",
       "      <td>0.774951</td>\n",
       "      <td>-0.270099</td>\n",
       "      <td>-1.738875</td>\n",
       "    </tr>\n",
       "    <tr>\n",
       "      <th>2000-01-06</th>\n",
       "      <td>-1.097730</td>\n",
       "      <td>-0.464927</td>\n",
       "      <td>0.165614</td>\n",
       "      <td>-0.746640</td>\n",
       "    </tr>\n",
       "  </tbody>\n",
       "</table>\n",
       "</div>"
      ],
      "text/plain": [
       "                   A         B         C         D\n",
       "2000-01-01  0.193471 -0.219542  1.419361 -0.990787\n",
       "2000-01-02  0.422947  0.026119  0.834805  0.599021\n",
       "2000-01-03  1.929653 -0.198232 -0.153435  0.382690\n",
       "2000-01-04  0.187155  0.187613  1.242034 -1.188389\n",
       "2000-01-05  0.904376  0.774951 -0.270099 -1.738875\n",
       "2000-01-06 -1.097730 -0.464927  0.165614 -0.746640"
      ]
     },
     "execution_count": 19,
     "metadata": {},
     "output_type": "execute_result"
    }
   ],
   "source": [
    "df['2000']"
   ]
  },
  {
   "cell_type": "code",
   "execution_count": 25,
   "metadata": {
    "collapsed": false
   },
   "outputs": [
    {
     "data": {
      "text/plain": [
       "array([2000, 2000, 2000, 2000, 2000, 2000])"
      ]
     },
     "execution_count": 25,
     "metadata": {},
     "output_type": "execute_result"
    }
   ],
   "source": [
    "df.index.year"
   ]
  },
  {
   "cell_type": "markdown",
   "metadata": {},
   "source": [
    "This shows how to create a multiindex based on dates and stock symbols"
   ]
  },
  {
   "cell_type": "code",
   "execution_count": 6,
   "metadata": {
    "collapsed": false
   },
   "outputs": [
    {
     "data": {
      "text/plain": [
       "DatetimeIndex(['2001-01-01', '2001-01-02', '2001-01-03', '2001-01-01',\n",
       "               '2001-01-02', '2001-01-04', '2001-01-02', '2001-01-03',\n",
       "               '2001-01-04'],\n",
       "              dtype='datetime64[ns]', freq=None, tz=None)"
      ]
     },
     "execution_count": 6,
     "metadata": {},
     "output_type": "execute_result"
    }
   ],
   "source": [
    "dates=pd.DatetimeIndex(['20010101','20010102','20010103','20010101','20010102','20010104','20010102','20010103','20010104'])\n",
    "dates"
   ]
  },
  {
   "cell_type": "code",
   "execution_count": 7,
   "metadata": {
    "collapsed": false
   },
   "outputs": [
    {
     "data": {
      "text/plain": [
       "0    goog\n",
       "1    goog\n",
       "2    goog\n",
       "3      ge\n",
       "4      ge\n",
       "5     apl\n",
       "6     mrq\n",
       "7     mrq\n",
       "8     mrq\n",
       "dtype: object"
      ]
     },
     "execution_count": 7,
     "metadata": {},
     "output_type": "execute_result"
    }
   ],
   "source": [
    "sym=pd.Series(['goog','goog','goog','ge','ge','apl','mrq','mrq','mrq'])\n",
    "sym"
   ]
  },
  {
   "cell_type": "code",
   "execution_count": 8,
   "metadata": {
    "collapsed": false
   },
   "outputs": [
    {
     "data": {
      "text/plain": [
       "MultiIndex(levels=[[u'apl', u'ge', u'goog', u'mrq'], [2001-01-01 00:00:00, 2001-01-02 00:00:00, 2001-01-03 00:00:00, 2001-01-04 00:00:00]],\n",
       "           labels=[[2, 2, 2, 1, 1, 0, 3, 3, 3], [0, 1, 2, 0, 1, 3, 1, 2, 3]],\n",
       "           names=[u'sym', u'dates'])"
      ]
     },
     "execution_count": 8,
     "metadata": {},
     "output_type": "execute_result"
    }
   ],
   "source": [
    "array=[sym,dates]\n",
    "mindex=pd.MultiIndex.from_arrays(array,names=['sym','dates'])\n",
    "mindex"
   ]
  },
  {
   "cell_type": "code",
   "execution_count": 9,
   "metadata": {
    "collapsed": false
   },
   "outputs": [
    {
     "data": {
      "text/plain": [
       "sym   dates     \n",
       "goog  2001-01-01    0.011432\n",
       "      2001-01-02   -0.254581\n",
       "      2001-01-03    0.299121\n",
       "ge    2001-01-01   -0.696564\n",
       "      2001-01-02    1.078758\n",
       "apl   2001-01-04   -0.378313\n",
       "mrq   2001-01-02   -0.280819\n",
       "      2001-01-03    0.967510\n",
       "      2001-01-04   -0.205559\n",
       "dtype: float64"
      ]
     },
     "execution_count": 9,
     "metadata": {},
     "output_type": "execute_result"
    }
   ],
   "source": [
    "s=pd.Series(np.random.randn(9),index=mindex)\n",
    "s"
   ]
  },
  {
   "cell_type": "code",
   "execution_count": 10,
   "metadata": {
    "collapsed": false
   },
   "outputs": [
    {
     "data": {
      "text/html": [
       "<div>\n",
       "<table border=\"1\" class=\"dataframe\">\n",
       "  <thead>\n",
       "    <tr style=\"text-align: right;\">\n",
       "      <th></th>\n",
       "      <th></th>\n",
       "      <th>bear</th>\n",
       "      <th>bull</th>\n",
       "    </tr>\n",
       "    <tr>\n",
       "      <th>sym</th>\n",
       "      <th>dates</th>\n",
       "      <th></th>\n",
       "      <th></th>\n",
       "    </tr>\n",
       "  </thead>\n",
       "  <tbody>\n",
       "    <tr>\n",
       "      <th rowspan=\"3\" valign=\"top\">goog</th>\n",
       "      <th>2001-01-01</th>\n",
       "      <td>0.403929</td>\n",
       "      <td>1.269914</td>\n",
       "    </tr>\n",
       "    <tr>\n",
       "      <th>2001-01-02</th>\n",
       "      <td>0.768623</td>\n",
       "      <td>-0.315670</td>\n",
       "    </tr>\n",
       "    <tr>\n",
       "      <th>2001-01-03</th>\n",
       "      <td>1.209222</td>\n",
       "      <td>-0.007384</td>\n",
       "    </tr>\n",
       "    <tr>\n",
       "      <th rowspan=\"2\" valign=\"top\">ge</th>\n",
       "      <th>2001-01-01</th>\n",
       "      <td>0.113695</td>\n",
       "      <td>1.328508</td>\n",
       "    </tr>\n",
       "    <tr>\n",
       "      <th>2001-01-02</th>\n",
       "      <td>0.000254</td>\n",
       "      <td>-0.984252</td>\n",
       "    </tr>\n",
       "    <tr>\n",
       "      <th>apl</th>\n",
       "      <th>2001-01-04</th>\n",
       "      <td>-0.305123</td>\n",
       "      <td>0.755539</td>\n",
       "    </tr>\n",
       "    <tr>\n",
       "      <th rowspan=\"3\" valign=\"top\">mrq</th>\n",
       "      <th>2001-01-02</th>\n",
       "      <td>0.112461</td>\n",
       "      <td>-1.289899</td>\n",
       "    </tr>\n",
       "    <tr>\n",
       "      <th>2001-01-03</th>\n",
       "      <td>-1.240584</td>\n",
       "      <td>-1.151839</td>\n",
       "    </tr>\n",
       "    <tr>\n",
       "      <th>2001-01-04</th>\n",
       "      <td>0.782277</td>\n",
       "      <td>-0.578175</td>\n",
       "    </tr>\n",
       "  </tbody>\n",
       "</table>\n",
       "</div>"
      ],
      "text/plain": [
       "                     bear      bull\n",
       "sym  dates                         \n",
       "goog 2001-01-01  0.403929  1.269914\n",
       "     2001-01-02  0.768623 -0.315670\n",
       "     2001-01-03  1.209222 -0.007384\n",
       "ge   2001-01-01  0.113695  1.328508\n",
       "     2001-01-02  0.000254 -0.984252\n",
       "apl  2001-01-04 -0.305123  0.755539\n",
       "mrq  2001-01-02  0.112461 -1.289899\n",
       "     2001-01-03 -1.240584 -1.151839\n",
       "     2001-01-04  0.782277 -0.578175"
      ]
     },
     "execution_count": 10,
     "metadata": {},
     "output_type": "execute_result"
    }
   ],
   "source": [
    "panel=pd.DataFrame({'bear' : np.random.randn(9), 'bull' : np.random.randn(9)}, index=mindex)\n",
    "panel"
   ]
  },
  {
   "cell_type": "code",
   "execution_count": 11,
   "metadata": {
    "collapsed": false
   },
   "outputs": [
    {
     "data": {
      "text/html": [
       "<div>\n",
       "<table border=\"1\" class=\"dataframe\">\n",
       "  <thead>\n",
       "    <tr style=\"text-align: right;\">\n",
       "      <th></th>\n",
       "      <th>bear</th>\n",
       "      <th>bull</th>\n",
       "    </tr>\n",
       "    <tr>\n",
       "      <th>dates</th>\n",
       "      <th></th>\n",
       "      <th></th>\n",
       "    </tr>\n",
       "  </thead>\n",
       "  <tbody>\n",
       "    <tr>\n",
       "      <th>2001-01-01</th>\n",
       "      <td>0.403929</td>\n",
       "      <td>1.269914</td>\n",
       "    </tr>\n",
       "    <tr>\n",
       "      <th>2001-01-02</th>\n",
       "      <td>0.768623</td>\n",
       "      <td>-0.315670</td>\n",
       "    </tr>\n",
       "    <tr>\n",
       "      <th>2001-01-03</th>\n",
       "      <td>1.209222</td>\n",
       "      <td>-0.007384</td>\n",
       "    </tr>\n",
       "  </tbody>\n",
       "</table>\n",
       "</div>"
      ],
      "text/plain": [
       "                bear      bull\n",
       "dates                         \n",
       "2001-01-01  0.403929  1.269914\n",
       "2001-01-02  0.768623 -0.315670\n",
       "2001-01-03  1.209222 -0.007384"
      ]
     },
     "execution_count": 11,
     "metadata": {},
     "output_type": "execute_result"
    }
   ],
   "source": [
    "panel.loc['goog']"
   ]
  },
  {
   "cell_type": "code",
   "execution_count": 12,
   "metadata": {
    "collapsed": false
   },
   "outputs": [
    {
     "data": {
      "text/plain": [
       "dates\n",
       "2001-01-01    1.269914\n",
       "2001-01-02   -0.315670\n",
       "2001-01-03   -0.007384\n",
       "Name: bull, dtype: float64"
      ]
     },
     "execution_count": 12,
     "metadata": {},
     "output_type": "execute_result"
    }
   ],
   "source": [
    "panel.loc['goog']['bull']"
   ]
  },
  {
   "cell_type": "code",
   "execution_count": 13,
   "metadata": {
    "collapsed": false
   },
   "outputs": [
    {
     "data": {
      "text/html": [
       "<div>\n",
       "<table border=\"1\" class=\"dataframe\">\n",
       "  <thead>\n",
       "    <tr style=\"text-align: right;\">\n",
       "      <th></th>\n",
       "      <th>bear</th>\n",
       "      <th>bull</th>\n",
       "      <th>sym</th>\n",
       "      <th>dates</th>\n",
       "    </tr>\n",
       "  </thead>\n",
       "  <tbody>\n",
       "    <tr>\n",
       "      <th>0</th>\n",
       "      <td>-0.180051</td>\n",
       "      <td>0.778601</td>\n",
       "      <td>goog</td>\n",
       "      <td>2001-01-01</td>\n",
       "    </tr>\n",
       "    <tr>\n",
       "      <th>1</th>\n",
       "      <td>-0.258697</td>\n",
       "      <td>0.269370</td>\n",
       "      <td>goog</td>\n",
       "      <td>2001-01-02</td>\n",
       "    </tr>\n",
       "    <tr>\n",
       "      <th>2</th>\n",
       "      <td>1.316401</td>\n",
       "      <td>0.703175</td>\n",
       "      <td>goog</td>\n",
       "      <td>2001-01-03</td>\n",
       "    </tr>\n",
       "    <tr>\n",
       "      <th>3</th>\n",
       "      <td>-0.796588</td>\n",
       "      <td>0.532980</td>\n",
       "      <td>ge</td>\n",
       "      <td>2001-01-01</td>\n",
       "    </tr>\n",
       "    <tr>\n",
       "      <th>4</th>\n",
       "      <td>-1.002252</td>\n",
       "      <td>0.038697</td>\n",
       "      <td>ge</td>\n",
       "      <td>2001-01-02</td>\n",
       "    </tr>\n",
       "    <tr>\n",
       "      <th>5</th>\n",
       "      <td>0.571033</td>\n",
       "      <td>-0.801806</td>\n",
       "      <td>apl</td>\n",
       "      <td>2001-01-04</td>\n",
       "    </tr>\n",
       "    <tr>\n",
       "      <th>6</th>\n",
       "      <td>-0.987874</td>\n",
       "      <td>-1.946720</td>\n",
       "      <td>mrq</td>\n",
       "      <td>2001-01-02</td>\n",
       "    </tr>\n",
       "    <tr>\n",
       "      <th>7</th>\n",
       "      <td>-1.615854</td>\n",
       "      <td>0.250257</td>\n",
       "      <td>mrq</td>\n",
       "      <td>2001-01-03</td>\n",
       "    </tr>\n",
       "    <tr>\n",
       "      <th>8</th>\n",
       "      <td>-0.456746</td>\n",
       "      <td>0.898749</td>\n",
       "      <td>mrq</td>\n",
       "      <td>2001-01-04</td>\n",
       "    </tr>\n",
       "  </tbody>\n",
       "</table>\n",
       "</div>"
      ],
      "text/plain": [
       "       bear      bull   sym      dates\n",
       "0 -0.180051  0.778601  goog 2001-01-01\n",
       "1 -0.258697  0.269370  goog 2001-01-02\n",
       "2  1.316401  0.703175  goog 2001-01-03\n",
       "3 -0.796588  0.532980    ge 2001-01-01\n",
       "4 -1.002252  0.038697    ge 2001-01-02\n",
       "5  0.571033 -0.801806   apl 2001-01-04\n",
       "6 -0.987874 -1.946720   mrq 2001-01-02\n",
       "7 -1.615854  0.250257   mrq 2001-01-03\n",
       "8 -0.456746  0.898749   mrq 2001-01-04"
      ]
     },
     "execution_count": 13,
     "metadata": {},
     "output_type": "execute_result"
    }
   ],
   "source": [
    "df2=pd.DataFrame({'bear':np.random.randn(9),'bull':np.random.randn(9)})\n",
    "df2['sym']=sym\n",
    "df2['dates']=dates\n",
    "df2"
   ]
  },
  {
   "cell_type": "code",
   "execution_count": 14,
   "metadata": {
    "collapsed": false
   },
   "outputs": [
    {
     "data": {
      "text/plain": [
       "sym\n",
       "apl     1\n",
       "ge      2\n",
       "goog    3\n",
       "mrq     3\n",
       "dtype: int64"
      ]
     },
     "execution_count": 14,
     "metadata": {},
     "output_type": "execute_result"
    }
   ],
   "source": [
    "#groupby splits DataFrame into sub tables defined by groups of the specified column on which a function can be applied.\n",
    "#Then the result is combined back. \n",
    "df2.groupby('sym').size()"
   ]
  },
  {
   "cell_type": "code",
   "execution_count": 15,
   "metadata": {
    "collapsed": false
   },
   "outputs": [
    {
     "data": {
      "text/html": [
       "<div>\n",
       "<table border=\"1\" class=\"dataframe\">\n",
       "  <thead>\n",
       "    <tr style=\"text-align: right;\">\n",
       "      <th></th>\n",
       "      <th>bear</th>\n",
       "      <th>bull</th>\n",
       "    </tr>\n",
       "    <tr>\n",
       "      <th>sym</th>\n",
       "      <th></th>\n",
       "      <th></th>\n",
       "    </tr>\n",
       "  </thead>\n",
       "  <tbody>\n",
       "    <tr>\n",
       "      <th>apl</th>\n",
       "      <td>0.571033</td>\n",
       "      <td>-0.801806</td>\n",
       "    </tr>\n",
       "    <tr>\n",
       "      <th>ge</th>\n",
       "      <td>-0.899420</td>\n",
       "      <td>0.285838</td>\n",
       "    </tr>\n",
       "    <tr>\n",
       "      <th>goog</th>\n",
       "      <td>0.292551</td>\n",
       "      <td>0.583715</td>\n",
       "    </tr>\n",
       "    <tr>\n",
       "      <th>mrq</th>\n",
       "      <td>-1.020158</td>\n",
       "      <td>-0.265904</td>\n",
       "    </tr>\n",
       "  </tbody>\n",
       "</table>\n",
       "</div>"
      ],
      "text/plain": [
       "          bear      bull\n",
       "sym                     \n",
       "apl   0.571033 -0.801806\n",
       "ge   -0.899420  0.285838\n",
       "goog  0.292551  0.583715\n",
       "mrq  -1.020158 -0.265904"
      ]
     },
     "execution_count": 15,
     "metadata": {},
     "output_type": "execute_result"
    }
   ],
   "source": [
    "df2.groupby('sym').mean()"
   ]
  },
  {
   "cell_type": "code",
   "execution_count": 16,
   "metadata": {
    "collapsed": false
   },
   "outputs": [
    {
     "data": {
      "text/html": [
       "<div>\n",
       "<table border=\"1\" class=\"dataframe\">\n",
       "  <thead>\n",
       "    <tr style=\"text-align: right;\">\n",
       "      <th></th>\n",
       "      <th>bear</th>\n",
       "      <th>bull</th>\n",
       "    </tr>\n",
       "    <tr>\n",
       "      <th>dates</th>\n",
       "      <th></th>\n",
       "      <th></th>\n",
       "    </tr>\n",
       "  </thead>\n",
       "  <tbody>\n",
       "    <tr>\n",
       "      <th>2001-01-01</th>\n",
       "      <td>-0.488320</td>\n",
       "      <td>0.655791</td>\n",
       "    </tr>\n",
       "    <tr>\n",
       "      <th>2001-01-02</th>\n",
       "      <td>-0.749608</td>\n",
       "      <td>-0.546218</td>\n",
       "    </tr>\n",
       "    <tr>\n",
       "      <th>2001-01-03</th>\n",
       "      <td>-0.149727</td>\n",
       "      <td>0.476716</td>\n",
       "    </tr>\n",
       "    <tr>\n",
       "      <th>2001-01-04</th>\n",
       "      <td>0.057143</td>\n",
       "      <td>0.048472</td>\n",
       "    </tr>\n",
       "  </tbody>\n",
       "</table>\n",
       "</div>"
      ],
      "text/plain": [
       "                bear      bull\n",
       "dates                         \n",
       "2001-01-01 -0.488320  0.655791\n",
       "2001-01-02 -0.749608 -0.546218\n",
       "2001-01-03 -0.149727  0.476716\n",
       "2001-01-04  0.057143  0.048472"
      ]
     },
     "execution_count": 16,
     "metadata": {},
     "output_type": "execute_result"
    }
   ],
   "source": [
    "df2.groupby('dates').mean()"
   ]
  },
  {
   "cell_type": "code",
   "execution_count": 17,
   "metadata": {
    "collapsed": false
   },
   "outputs": [
    {
     "data": {
      "text/html": [
       "<div>\n",
       "<table border=\"1\" class=\"dataframe\">\n",
       "  <thead>\n",
       "    <tr>\n",
       "      <th></th>\n",
       "      <th colspan=\"2\" halign=\"left\">bear</th>\n",
       "      <th colspan=\"2\" halign=\"left\">bull</th>\n",
       "    </tr>\n",
       "    <tr>\n",
       "      <th></th>\n",
       "      <th>mean</th>\n",
       "      <th>std</th>\n",
       "      <th>mean</th>\n",
       "      <th>std</th>\n",
       "    </tr>\n",
       "    <tr>\n",
       "      <th>dates</th>\n",
       "      <th></th>\n",
       "      <th></th>\n",
       "      <th></th>\n",
       "      <th></th>\n",
       "    </tr>\n",
       "  </thead>\n",
       "  <tbody>\n",
       "    <tr>\n",
       "      <th>2001-01-01</th>\n",
       "      <td>-0.488320</td>\n",
       "      <td>0.435958</td>\n",
       "      <td>0.655791</td>\n",
       "      <td>0.173680</td>\n",
       "    </tr>\n",
       "    <tr>\n",
       "      <th>2001-01-02</th>\n",
       "      <td>-0.749608</td>\n",
       "      <td>0.425202</td>\n",
       "      <td>-0.546218</td>\n",
       "      <td>1.218342</td>\n",
       "    </tr>\n",
       "    <tr>\n",
       "      <th>2001-01-03</th>\n",
       "      <td>-0.149727</td>\n",
       "      <td>2.073418</td>\n",
       "      <td>0.476716</td>\n",
       "      <td>0.320261</td>\n",
       "    </tr>\n",
       "    <tr>\n",
       "      <th>2001-01-04</th>\n",
       "      <td>0.057143</td>\n",
       "      <td>0.726749</td>\n",
       "      <td>0.048472</td>\n",
       "      <td>1.202474</td>\n",
       "    </tr>\n",
       "  </tbody>\n",
       "</table>\n",
       "</div>"
      ],
      "text/plain": [
       "                bear                bull          \n",
       "                mean       std      mean       std\n",
       "dates                                             \n",
       "2001-01-01 -0.488320  0.435958  0.655791  0.173680\n",
       "2001-01-02 -0.749608  0.425202 -0.546218  1.218342\n",
       "2001-01-03 -0.149727  2.073418  0.476716  0.320261\n",
       "2001-01-04  0.057143  0.726749  0.048472  1.202474"
      ]
     },
     "execution_count": 17,
     "metadata": {},
     "output_type": "execute_result"
    }
   ],
   "source": [
    "rep=df2.groupby('dates').agg([np.mean,np.std])\n",
    "rep"
   ]
  },
  {
   "cell_type": "code",
   "execution_count": 18,
   "metadata": {
    "collapsed": false
   },
   "outputs": [
    {
     "data": {
      "text/plain": [
       "MultiIndex(levels=[[u'bear', u'bull'], [u'mean', u'std']],\n",
       "           labels=[[0, 0, 1, 1], [0, 1, 0, 1]])"
      ]
     },
     "execution_count": 18,
     "metadata": {},
     "output_type": "execute_result"
    }
   ],
   "source": [
    "rep.columns"
   ]
  },
  {
   "cell_type": "code",
   "execution_count": 19,
   "metadata": {
    "collapsed": false
   },
   "outputs": [
    {
     "data": {
      "text/plain": [
       "dates\n",
       "2001-01-01    0.435958\n",
       "2001-01-02    0.425202\n",
       "2001-01-03    2.073418\n",
       "2001-01-04    0.726749\n",
       "Freq: D, Name: std, dtype: float64"
      ]
     },
     "execution_count": 19,
     "metadata": {},
     "output_type": "execute_result"
    }
   ],
   "source": [
    "#this gives about 95% CI around the index\n",
    "rep['bear']['std']"
   ]
  },
  {
   "cell_type": "code",
   "execution_count": 20,
   "metadata": {
    "collapsed": false
   },
   "outputs": [],
   "source": [
    "plt.plot(rep.index,rep.bear['mean'],label='bearish')\n",
    "plt.plot(rep.index,rep.bull['mean'],label='bullish')\n",
    "plt.legend(loc='best')\n",
    "plt.fill_between(rep.index, rep.bear['mean']-2*rep.bear['std'], rep.bear['mean']+2*rep.bear['std'], color='r', alpha=0.2)\n",
    "plt.fill_between(rep.index, rep.bull['mean']-2*rep.bull['std'], rep.bull['mean']+2*rep.bull['std'], color='b', alpha=0.2)\n",
    "plt.title('Time series of mean bearish and bullish sentiment with 95% CI')\n",
    "plt.show()"
   ]
  },
  {
   "cell_type": "code",
   "execution_count": 26,
   "metadata": {
    "collapsed": false
   },
   "outputs": [
    {
     "data": {
      "text/html": [
       "<div>\n",
       "<table border=\"1\" class=\"dataframe\">\n",
       "  <thead>\n",
       "    <tr style=\"text-align: right;\">\n",
       "      <th></th>\n",
       "      <th>A</th>\n",
       "      <th>B</th>\n",
       "      <th>C</th>\n",
       "    </tr>\n",
       "  </thead>\n",
       "  <tbody>\n",
       "    <tr>\n",
       "      <th>0</th>\n",
       "      <td>a</td>\n",
       "      <td>1</td>\n",
       "      <td>4</td>\n",
       "    </tr>\n",
       "    <tr>\n",
       "      <th>1</th>\n",
       "      <td>a</td>\n",
       "      <td>2</td>\n",
       "      <td>5</td>\n",
       "    </tr>\n",
       "    <tr>\n",
       "      <th>2</th>\n",
       "      <td>b</td>\n",
       "      <td>3</td>\n",
       "      <td>6</td>\n",
       "    </tr>\n",
       "  </tbody>\n",
       "</table>\n",
       "</div>"
      ],
      "text/plain": [
       "   A  B  C\n",
       "0  a  1  4\n",
       "1  a  2  5\n",
       "2  b  3  6"
      ]
     },
     "execution_count": 26,
     "metadata": {},
     "output_type": "execute_result"
    }
   ],
   "source": [
    "dd=pd.DataFrame({'A':['a','a','b'],'B':[1,2,3],'C':[4,5,6]})\n",
    "dd"
   ]
  },
  {
   "cell_type": "code",
   "execution_count": 30,
   "metadata": {
    "collapsed": false
   },
   "outputs": [
    {
     "data": {
      "text/html": [
       "<div>\n",
       "<table border=\"1\" class=\"dataframe\">\n",
       "  <thead>\n",
       "    <tr style=\"text-align: right;\">\n",
       "      <th></th>\n",
       "      <th>A</th>\n",
       "      <th>B</th>\n",
       "      <th>C</th>\n",
       "      <th>index</th>\n",
       "    </tr>\n",
       "  </thead>\n",
       "  <tbody>\n",
       "    <tr>\n",
       "      <th>0</th>\n",
       "      <td>a</td>\n",
       "      <td>1</td>\n",
       "      <td>4</td>\n",
       "      <td>0</td>\n",
       "    </tr>\n",
       "    <tr>\n",
       "      <th>1</th>\n",
       "      <td>a</td>\n",
       "      <td>2</td>\n",
       "      <td>5</td>\n",
       "      <td>1</td>\n",
       "    </tr>\n",
       "    <tr>\n",
       "      <th>2</th>\n",
       "      <td>b</td>\n",
       "      <td>3</td>\n",
       "      <td>6</td>\n",
       "      <td>2</td>\n",
       "    </tr>\n",
       "  </tbody>\n",
       "</table>\n",
       "</div>"
      ],
      "text/plain": [
       "   A  B  C  index\n",
       "0  a  1  4      0\n",
       "1  a  2  5      1\n",
       "2  b  3  6      2"
      ]
     },
     "execution_count": 30,
     "metadata": {},
     "output_type": "execute_result"
    }
   ],
   "source": [
    "dd['index']=(dd.index).values\n",
    "dd"
   ]
  },
  {
   "cell_type": "code",
   "execution_count": 32,
   "metadata": {
    "collapsed": false
   },
   "outputs": [
    {
     "data": {
      "text/html": [
       "<div>\n",
       "<table border=\"1\" class=\"dataframe\">\n",
       "  <thead>\n",
       "    <tr style=\"text-align: right;\">\n",
       "      <th></th>\n",
       "      <th></th>\n",
       "      <th></th>\n",
       "      <th>C</th>\n",
       "    </tr>\n",
       "    <tr>\n",
       "      <th>index</th>\n",
       "      <th>A</th>\n",
       "      <th>B</th>\n",
       "      <th></th>\n",
       "    </tr>\n",
       "  </thead>\n",
       "  <tbody>\n",
       "    <tr>\n",
       "      <th>0</th>\n",
       "      <th>a</th>\n",
       "      <th>1</th>\n",
       "      <td>4</td>\n",
       "    </tr>\n",
       "    <tr>\n",
       "      <th>1</th>\n",
       "      <th>a</th>\n",
       "      <th>2</th>\n",
       "      <td>5</td>\n",
       "    </tr>\n",
       "    <tr>\n",
       "      <th>2</th>\n",
       "      <th>b</th>\n",
       "      <th>3</th>\n",
       "      <td>6</td>\n",
       "    </tr>\n",
       "  </tbody>\n",
       "</table>\n",
       "</div>"
      ],
      "text/plain": [
       "           C\n",
       "index A B   \n",
       "0     a 1  4\n",
       "1     a 2  5\n",
       "2     b 3  6"
      ]
     },
     "execution_count": 32,
     "metadata": {},
     "output_type": "execute_result"
    }
   ],
   "source": [
    "dd=dd.set_index(['index','A','B'])\n",
    "dd"
   ]
  },
  {
   "cell_type": "code",
   "execution_count": 4,
   "metadata": {
    "collapsed": false
   },
   "outputs": [
    {
     "data": {
      "text/html": [
       "<div>\n",
       "<table border=\"1\" class=\"dataframe\">\n",
       "  <thead>\n",
       "    <tr style=\"text-align: right;\">\n",
       "      <th></th>\n",
       "      <th>A</th>\n",
       "      <th>B</th>\n",
       "      <th>C</th>\n",
       "      <th>G</th>\n",
       "    </tr>\n",
       "  </thead>\n",
       "  <tbody>\n",
       "    <tr>\n",
       "      <th>0</th>\n",
       "      <td>1</td>\n",
       "      <td>0</td>\n",
       "      <td>1</td>\n",
       "      <td>qw</td>\n",
       "    </tr>\n",
       "    <tr>\n",
       "      <th>1</th>\n",
       "      <td>2</td>\n",
       "      <td>0</td>\n",
       "      <td>0</td>\n",
       "      <td>qw</td>\n",
       "    </tr>\n",
       "    <tr>\n",
       "      <th>2</th>\n",
       "      <td>3</td>\n",
       "      <td>0</td>\n",
       "      <td>0</td>\n",
       "      <td>po</td>\n",
       "    </tr>\n",
       "    <tr>\n",
       "      <th>3</th>\n",
       "      <td>4</td>\n",
       "      <td>1</td>\n",
       "      <td>0</td>\n",
       "      <td>po</td>\n",
       "    </tr>\n",
       "  </tbody>\n",
       "</table>\n",
       "</div>"
      ],
      "text/plain": [
       "   A  B  C   G\n",
       "0  1  0  1  qw\n",
       "1  2  0  0  qw\n",
       "2  3  0  0  po\n",
       "3  4  1  0  po"
      ]
     },
     "execution_count": 4,
     "metadata": {},
     "output_type": "execute_result"
    }
   ],
   "source": [
    "df3=pd.DataFrame({'G':['qw','qw','po','po'],'A':[1,2,3,4],'B':[0,0,0,1],'C':[1,0,0,0]})\n",
    "df3"
   ]
  },
  {
   "cell_type": "code",
   "execution_count": 15,
   "metadata": {
    "collapsed": false
   },
   "outputs": [
    {
     "ename": "TypeError",
     "evalue": "filter function returned a Series, but expected a scalar bool",
     "output_type": "error",
     "traceback": [
      "\u001b[1;31m---------------------------------------------------------------------------\u001b[0m",
      "\u001b[1;31mTypeError\u001b[0m                                 Traceback (most recent call last)",
      "\u001b[1;32m<ipython-input-15-a71a46212694>\u001b[0m in \u001b[0;36m<module>\u001b[1;34m()\u001b[0m\n\u001b[1;32m----> 1\u001b[1;33m \u001b[0mdf3\u001b[0m\u001b[1;33m.\u001b[0m\u001b[0mgroupby\u001b[0m\u001b[1;33m(\u001b[0m\u001b[1;34m'G'\u001b[0m\u001b[1;33m)\u001b[0m\u001b[1;33m.\u001b[0m\u001b[0mfilter\u001b[0m\u001b[1;33m(\u001b[0m\u001b[1;32mlambda\u001b[0m \u001b[0mx\u001b[0m\u001b[1;33m:\u001b[0m\u001b[0mx\u001b[0m\u001b[1;33m[\u001b[0m\u001b[1;34m'B'\u001b[0m\u001b[1;33m]\u001b[0m\u001b[1;33m!=\u001b[0m\u001b[1;36m0\u001b[0m\u001b[1;33m)\u001b[0m\u001b[1;33m\u001b[0m\u001b[0m\n\u001b[0m",
      "\u001b[1;32mC:\\Program Files (x86)\\Anaconda\\lib\\site-packages\\pandas\\core\\groupby.py\u001b[0m in \u001b[0;36mfilter\u001b[1;34m(self, func, dropna, *args, **kwargs)\u001b[0m\n\u001b[0;32m   3153\u001b[0m                 raise TypeError(\"filter function returned a %s, \"\n\u001b[0;32m   3154\u001b[0m                                 \u001b[1;34m\"but expected a scalar bool\"\u001b[0m \u001b[1;33m%\u001b[0m\u001b[1;33m\u001b[0m\u001b[0m\n\u001b[1;32m-> 3155\u001b[1;33m                                 type(res).__name__)\n\u001b[0m\u001b[0;32m   3156\u001b[0m \u001b[1;33m\u001b[0m\u001b[0m\n\u001b[0;32m   3157\u001b[0m         \u001b[1;32mreturn\u001b[0m \u001b[0mself\u001b[0m\u001b[1;33m.\u001b[0m\u001b[0m_apply_filter\u001b[0m\u001b[1;33m(\u001b[0m\u001b[0mindices\u001b[0m\u001b[1;33m,\u001b[0m \u001b[0mdropna\u001b[0m\u001b[1;33m)\u001b[0m\u001b[1;33m\u001b[0m\u001b[0m\n",
      "\u001b[1;31mTypeError\u001b[0m: filter function returned a Series, but expected a scalar bool"
     ]
    }
   ],
   "source": [
    "missC=df3['C']==0\n",
    "df3=df3['A'].loc[]"
   ]
  },
  {
   "cell_type": "code",
   "execution_count": 5,
   "metadata": {
    "collapsed": false
   },
   "outputs": [
    {
     "data": {
      "text/plain": [
       "True"
      ]
     },
     "execution_count": 5,
     "metadata": {},
     "output_type": "execute_result"
    }
   ],
   "source": [
    "a=3\n",
    "a!=0"
   ]
  }
 ],
 "metadata": {
  "kernelspec": {
   "display_name": "Python 2",
   "language": "python",
   "name": "python2"
  },
  "language_info": {
   "codemirror_mode": {
    "name": "ipython",
    "version": 2
   },
   "file_extension": ".py",
   "mimetype": "text/x-python",
   "name": "python",
   "nbconvert_exporter": "python",
   "pygments_lexer": "ipython2",
   "version": "2.7.10"
  }
 },
 "nbformat": 4,
 "nbformat_minor": 0
}
