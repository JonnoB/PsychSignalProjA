{
 "cells": [
  {
   "cell_type": "code",
   "execution_count": 26,
   "metadata": {
    "collapsed": true
   },
   "outputs": [],
   "source": [
    "import pandas as pd\n",
    "import numpy as np\n",
    "from numpy import random as r\n",
    "from matplotlib import pyplot as plt"
   ]
  },
  {
   "cell_type": "code",
   "execution_count": 3,
   "metadata": {
    "collapsed": false,
    "scrolled": true
   },
   "outputs": [
    {
     "ename": "ImportError",
     "evalue": "No module named 'quandl'",
     "output_type": "error",
     "traceback": [
      "\u001b[1;31m---------------------------------------------------------------------------\u001b[0m",
      "\u001b[1;31mImportError\u001b[0m                               Traceback (most recent call last)",
      "\u001b[1;32m<ipython-input-3-8a45e6f4bd39>\u001b[0m in \u001b[0;36m<module>\u001b[1;34m()\u001b[0m\n\u001b[1;32m----> 1\u001b[1;33m \u001b[1;32mimport\u001b[0m \u001b[0mquandl\u001b[0m \u001b[1;32mas\u001b[0m \u001b[0mq\u001b[0m\u001b[1;33m\u001b[0m\u001b[0m\n\u001b[0m",
      "\u001b[1;31mImportError\u001b[0m: No module named 'quandl'"
     ]
    }
   ],
   "source": [
    "import quandl as q"
   ]
  },
  {
   "cell_type": "code",
   "execution_count": 3,
   "metadata": {
    "collapsed": false
   },
   "outputs": [
    {
     "data": {
      "text/html": [
       "<div>\n",
       "<table border=\"1\" class=\"dataframe\">\n",
       "  <thead>\n",
       "    <tr style=\"text-align: right;\">\n",
       "      <th></th>\n",
       "      <th>sym</th>\n",
       "      <th>date</th>\n",
       "      <th>cluster</th>\n",
       "    </tr>\n",
       "  </thead>\n",
       "  <tbody>\n",
       "    <tr>\n",
       "      <th>354265</th>\n",
       "      <td>ARMH</td>\n",
       "      <td>2014-06-26 04:00:00</td>\n",
       "      <td>2</td>\n",
       "    </tr>\n",
       "    <tr>\n",
       "      <th>4529212</th>\n",
       "      <td>SODA</td>\n",
       "      <td>2015-03-29 04:00:00</td>\n",
       "      <td>1</td>\n",
       "    </tr>\n",
       "    <tr>\n",
       "      <th>66103</th>\n",
       "      <td>ACO</td>\n",
       "      <td>2014-03-12 04:00:00</td>\n",
       "      <td>1</td>\n",
       "    </tr>\n",
       "    <tr>\n",
       "      <th>433856</th>\n",
       "      <td>AUDUSD</td>\n",
       "      <td>2013-03-04 05:00:00</td>\n",
       "      <td>4</td>\n",
       "    </tr>\n",
       "    <tr>\n",
       "      <th>803372</th>\n",
       "      <td>CARA</td>\n",
       "      <td>2014-06-20 04:00:00</td>\n",
       "      <td>1</td>\n",
       "    </tr>\n",
       "  </tbody>\n",
       "</table>\n",
       "</div>"
      ],
      "text/plain": [
       "            sym                date  cluster\n",
       "354265     ARMH 2014-06-26 04:00:00        2\n",
       "4529212    SODA 2015-03-29 04:00:00        1\n",
       "66103       ACO 2014-03-12 04:00:00        1\n",
       "433856   AUDUSD 2013-03-04 05:00:00        4\n",
       "803372     CARA 2014-06-20 04:00:00        1"
      ]
     },
     "execution_count": 3,
     "metadata": {},
     "output_type": "execute_result"
    }
   ],
   "source": [
    "#create a sample\n",
    "path=\"C:\\\\dev\\\\psignal\\\\data\\\\\"\n",
    "pureTwt='twitter_noretweets_daily.csv'\n",
    "ptwt=pd.read_csv(filepath_or_buffer=path+pureTwt,delimiter=\",\",header=0)\n",
    "ptwt=ptwt.sample(n=1000)\n",
    "ptwt['TIMESTAMP_UTC']=pd.to_datetime(arg=ptwt.TIMESTAMP_UTC,infer_datetime_format='true',unit='D')\n",
    "#ptwt['TIMESTAMP_UTC']=pd.to_datetime(arg=ptwt.TIMESTAMP_UTC,format='%Y%m%d')\n",
    "cols=['SYMBOL','TIMESTAMP_UTC']\n",
    "ptwt=ptwt.reindex(columns=cols)\n",
    "ptwt.columns=['sym','date']\n",
    "ptwt['cluster']=r.randint(low=1,high=5,size=len(ptwt))\n",
    "ptwt.to_csv(\"sample ptwt.csv\")\n",
    "#this is how data should look like after clustring\n",
    "ptwt.head()"
   ]
  },
  {
   "cell_type": "code",
   "execution_count": 21,
   "metadata": {
    "collapsed": false
   },
   "outputs": [],
   "source": [
    "#if sample already exists use this to import it\n",
    "sampleTWT='sample ptwt.csv'\n",
    "ptwt=pd.read_csv(filepath_or_buffer=path+sampleTWT,delimiter=\",\",header=0)\n",
    "ptwt['date']=pd.to_datetime(arg=ptwt.date,infer_datetime_format='true',unit='D')"
   ]
  },
  {
   "cell_type": "code",
   "execution_count": 22,
   "metadata": {
    "collapsed": false
   },
   "outputs": [],
   "source": [
    "def toYMD(x):\n",
    "    return x.date()\n",
    "ptwt['date']=ptwt['date'].map(toYMD)"
   ]
  },
  {
   "cell_type": "code",
   "execution_count": 23,
   "metadata": {
    "collapsed": false
   },
   "outputs": [
    {
     "data": {
      "text/html": [
       "<div>\n",
       "<table border=\"1\" class=\"dataframe\">\n",
       "  <thead>\n",
       "    <tr style=\"text-align: right;\">\n",
       "      <th></th>\n",
       "      <th>Unnamed: 0</th>\n",
       "      <th>sym</th>\n",
       "      <th>date</th>\n",
       "      <th>cluster</th>\n",
       "    </tr>\n",
       "  </thead>\n",
       "  <tbody>\n",
       "    <tr>\n",
       "      <th>0</th>\n",
       "      <td>4787069</td>\n",
       "      <td>TEVA</td>\n",
       "      <td>2013-10-09</td>\n",
       "      <td>3</td>\n",
       "    </tr>\n",
       "    <tr>\n",
       "      <th>1</th>\n",
       "      <td>708047</td>\n",
       "      <td>BRKR</td>\n",
       "      <td>2013-04-18</td>\n",
       "      <td>4</td>\n",
       "    </tr>\n",
       "    <tr>\n",
       "      <th>2</th>\n",
       "      <td>5056500</td>\n",
       "      <td>UNFI</td>\n",
       "      <td>2013-01-15</td>\n",
       "      <td>3</td>\n",
       "    </tr>\n",
       "    <tr>\n",
       "      <th>3</th>\n",
       "      <td>1792372</td>\n",
       "      <td>EXFO</td>\n",
       "      <td>2011-03-08</td>\n",
       "      <td>3</td>\n",
       "    </tr>\n",
       "    <tr>\n",
       "      <th>4</th>\n",
       "      <td>2626137</td>\n",
       "      <td>IPHS</td>\n",
       "      <td>2011-11-07</td>\n",
       "      <td>4</td>\n",
       "    </tr>\n",
       "  </tbody>\n",
       "</table>\n",
       "</div>"
      ],
      "text/plain": [
       "   Unnamed: 0   sym        date  cluster\n",
       "0     4787069  TEVA  2013-10-09        3\n",
       "1      708047  BRKR  2013-04-18        4\n",
       "2     5056500  UNFI  2013-01-15        3\n",
       "3     1792372  EXFO  2011-03-08        3\n",
       "4     2626137  IPHS  2011-11-07        4"
      ]
     },
     "execution_count": 23,
     "metadata": {},
     "output_type": "execute_result"
    }
   ],
   "source": [
    "ptwt.head()"
   ]
  },
  {
   "cell_type": "code",
   "execution_count": 25,
   "metadata": {
    "collapsed": false
   },
   "outputs": [
    {
     "ename": "AttributeError",
     "evalue": "module 'pandas' has no attribute 'DataFram'",
     "output_type": "error",
     "traceback": [
      "\u001b[1;31m---------------------------------------------------------------------------\u001b[0m",
      "\u001b[1;31mNameError\u001b[0m                                 Traceback (most recent call last)",
      "\u001b[1;32m<ipython-input-25-e0fdaaa903ff>\u001b[0m in \u001b[0;36m<module>\u001b[1;34m()\u001b[0m\n\u001b[0;32m     12\u001b[0m         \u001b[1;31m#can later expand this to include search from other db than WIKI\u001b[0m\u001b[1;33m\u001b[0m\u001b[1;33m\u001b[0m\u001b[0m\n\u001b[1;32m---> 13\u001b[1;33m         \u001b[0mtmp\u001b[0m\u001b[1;33m=\u001b[0m\u001b[0mq\u001b[0m\u001b[1;33m.\u001b[0m\u001b[0mget\u001b[0m\u001b[1;33m(\u001b[0m\u001b[1;34m\"WIKI/\"\u001b[0m\u001b[1;33m+\u001b[0m\u001b[0msym\u001b[0m\u001b[1;33m+\u001b[0m\u001b[1;34m\".11\"\u001b[0m\u001b[1;33m,\u001b[0m\u001b[0mstart_date\u001b[0m\u001b[1;33m=\u001b[0m\u001b[1;34m'2010-01-01'\u001b[0m\u001b[1;33m,\u001b[0m \u001b[0mend_date\u001b[0m\u001b[1;33m=\u001b[0m\u001b[1;34m'2016-01-01'\u001b[0m\u001b[1;33m,\u001b[0m \u001b[0mtransformation\u001b[0m\u001b[1;33m=\u001b[0m\u001b[1;34m'rdiff'\u001b[0m\u001b[1;33m,\u001b[0m                  \u001b[0mauthtoken\u001b[0m\u001b[1;33m=\u001b[0m\u001b[1;34m\"c54mBskiz_BsF4vWWL2s\"\u001b[0m\u001b[1;33m)\u001b[0m\u001b[1;33m\u001b[0m\u001b[0m\n\u001b[0m\u001b[0;32m     14\u001b[0m         \u001b[0mtmp\u001b[0m\u001b[1;33m[\u001b[0m\u001b[1;34m'sym'\u001b[0m\u001b[1;33m]\u001b[0m\u001b[1;33m=\u001b[0m\u001b[0msym\u001b[0m\u001b[1;33m\u001b[0m\u001b[0m\n",
      "\u001b[1;31mNameError\u001b[0m: name 'q' is not defined",
      "\nDuring handling of the above exception, another exception occurred:\n",
      "\u001b[1;31mAttributeError\u001b[0m                            Traceback (most recent call last)",
      "\u001b[1;32m<ipython-input-25-e0fdaaa903ff>\u001b[0m in \u001b[0;36m<module>\u001b[1;34m()\u001b[0m\n\u001b[0;32m     15\u001b[0m         \u001b[0mtmp\u001b[0m\u001b[1;33m[\u001b[0m\u001b[1;34m'date'\u001b[0m\u001b[1;33m]\u001b[0m\u001b[1;33m=\u001b[0m\u001b[0mdate\u001b[0m\u001b[1;33m.\u001b[0m\u001b[0mindex\u001b[0m\u001b[1;33m\u001b[0m\u001b[0m\n\u001b[0;32m     16\u001b[0m     \u001b[1;32mexcept\u001b[0m\u001b[1;33m:\u001b[0m\u001b[1;33m\u001b[0m\u001b[0m\n\u001b[1;32m---> 17\u001b[1;33m         \u001b[0mtmp\u001b[0m\u001b[1;33m=\u001b[0m \u001b[0mpd\u001b[0m\u001b[1;33m.\u001b[0m\u001b[0mDataFram\u001b[0m\u001b[1;33m(\u001b[0m\u001b[1;33m{\u001b[0m\u001b[1;34m'sym'\u001b[0m\u001b[1;33m:\u001b[0m\u001b[1;33m[\u001b[0m\u001b[1;33m]\u001b[0m\u001b[1;33m,\u001b[0m\u001b[1;34m'date'\u001b[0m\u001b[1;33m:\u001b[0m\u001b[1;33m[\u001b[0m\u001b[1;33m]\u001b[0m\u001b[1;33m}\u001b[0m\u001b[1;33m)\u001b[0m\u001b[1;33m\u001b[0m\u001b[0m\n\u001b[0m\u001b[0;32m     18\u001b[0m     \u001b[0mdata\u001b[0m\u001b[1;33m=\u001b[0m\u001b[0mpd\u001b[0m\u001b[1;33m.\u001b[0m\u001b[0mmerge\u001b[0m\u001b[1;33m(\u001b[0m\u001b[0mdata\u001b[0m\u001b[1;33m,\u001b[0m\u001b[0mtmp\u001b[0m\u001b[1;33m,\u001b[0m\u001b[0mon\u001b[0m\u001b[1;33m=\u001b[0m\u001b[1;33m[\u001b[0m\u001b[1;34m'sym'\u001b[0m\u001b[1;33m,\u001b[0m\u001b[1;34m'date'\u001b[0m\u001b[1;33m]\u001b[0m\u001b[1;33m,\u001b[0m\u001b[0mhow\u001b[0m\u001b[1;33m=\u001b[0m\u001b[1;34m'left'\u001b[0m\u001b[1;33m)\u001b[0m \u001b[1;31m#assumes date in data is indeed daily\u001b[0m\u001b[1;33m\u001b[0m\u001b[0m\n\u001b[0;32m     19\u001b[0m \u001b[1;33m\u001b[0m\u001b[0m\n",
      "\u001b[1;31mAttributeError\u001b[0m: module 'pandas' has no attribute 'DataFram'"
     ]
    }
   ],
   "source": [
    "#data is imported from clustering stage\n",
    "#data = pd.read_csv('../data/data2010to2015.csv')\n",
    "#format is: date | sym  | cluster\n",
    "#date is daily\n",
    "#sym is cashtag/ticker\n",
    "#cluster is a number that indicates cluster\n",
    "\n",
    "tickers = ['TEVA','BRKR','UNFI']#data['sym'].unique()\n",
    "#rdata=pd.DataFrame({})\n",
    "for sym in tickers:   \n",
    "    try:\n",
    "        #can later expand this to include search from other db than WIKI\n",
    "        tmp=q.get(\"WIKI/\"+sym+\".11\",start_date='2010-01-01', end_date='2016-01-01', transformation='rdiff',\\\n",
    "                  authtoken=\"c54mBskiz_BsF4vWWL2s\")\n",
    "        tmp['sym']=sym\n",
    "        tmp['date']=date.index\n",
    "    except:\n",
    "        tmp= pd.DataFram({'sym':[],'date':[]})\n",
    "    data=pd.merge(data,tmp,on=['sym','date'],how='left') #assumes date in data is indeed daily\n",
    "\n",
    "\n",
    "mi = q.get(\"YAHOO/INDEX_GSPC.6\",start_date='2010-01-01', end_date='2016-01-01', transformation='rdiff',\\\n",
    "                  authtoken=\"c54mBskiz_BsF4vWWL2s\")\n"
   ]
  },
  {
   "cell_type": "code",
   "execution_count": null,
   "metadata": {
    "collapsed": true
   },
   "outputs": [],
   "source": [
    "date.head()"
   ]
  },
  {
   "cell_type": "code",
   "execution_count": null,
   "metadata": {
    "collapsed": true
   },
   "outputs": [],
   "source": [
    "def cumret(ts):\n",
    "    ts=np.add(ts,1)\n",
    "    ts=np.cumprod(ts)[len(ts)-1]\n",
    "    ts = ts-1\n",
    "    return ts\n",
    "\n",
    "data = data.resample(bmth_us, how=cumret)\n",
    "mi = mi.resample(bmth_us, how=cumret)"
   ]
  },
  {
   "cell_type": "code",
   "execution_count": 120,
   "metadata": {
    "collapsed": false
   },
   "outputs": [
    {
     "data": {
      "text/plain": [
       "'2010-01'"
      ]
     },
     "execution_count": 120,
     "metadata": {},
     "output_type": "execute_result"
    }
   ],
   "source": [
    "windows=pd.period_range(start='2010',end='2016',freq=\"M\")\n",
    "windows=windows.format()\n",
    "windows[0]"
   ]
  },
  {
   "cell_type": "code",
   "execution_count": null,
   "metadata": {
    "collapsed": true
   },
   "outputs": [],
   "source": [
    "import <regression> as reg\n",
    "for stock in ptwt['sym'].unique():\n",
    "    for window_end_idx in range(1,len(windows)):\n",
    "        mask=(ptwt['sym']==stock)&(ptwt['date']>=windows[window_end_idx-1])&(ptwt['date']<windows[window_end_idx])\n",
    "        tmp=ptwp[mask]\n",
    "        r_t_plus_one=tmp['return'].ix[1:]\n",
    "        r_t=tmp['return'].ix[0:len(tmp)-1]\n",
    "        mask_market_index=(ptwt['date']>=windows[window_end_idx-1])&(ptwt['date']<windows[window_end_idx])\n",
    "        market_index=SP500[mask].ix[0:len(tmp)-1] #check and correct for stationarity\n",
    "        SIR=ptwt[mask_market_index].groupby('cluster','date').mean() #compute mean return for each day and cluster\n",
    "        stationarity_test=reg.adftest(r_t_plus_one, kind=\"c\")\n",
    "        while (stationarity_test):\n",
    "            r_t_plus_one=reg.takeFirstDifference(r_t_plus_one)\n",
    "            r_t=reg.takeFirstDifference(r_t)\n",
    "            stationarity_test=reg.adftest(r_t_plus_one, kind=\"c\")\n",
    "        tmp_reg=reg.GLS(y=r_t_plus_one,x=[r_t,market_index],include_constant=True,return_residuals=True)\n",
    "        tmp_reg_prime=reg.GLS(y=tmp_reg.residuals,x=[r_t,SIR],include_constant=True,return_residuals=True)\n",
    "        regression[(stock, window)]=(tmp_reg,tmp_reg_prime)"
   ]
  },
  {
   "cell_type": "code",
   "execution_count": 122,
   "metadata": {
    "collapsed": false
   },
   "outputs": [
    {
     "data": {
      "text/html": [
       "<div>\n",
       "<table border=\"1\" class=\"dataframe\">\n",
       "  <thead>\n",
       "    <tr style=\"text-align: right;\">\n",
       "      <th></th>\n",
       "      <th>sym</th>\n",
       "      <th>date</th>\n",
       "      <th>return</th>\n",
       "    </tr>\n",
       "  </thead>\n",
       "  <tbody>\n",
       "    <tr>\n",
       "      <th>3</th>\n",
       "      <td>ALE</td>\n",
       "      <td>2015-01-16 05:00:00</td>\n",
       "      <td>1.54638</td>\n",
       "    </tr>\n",
       "  </tbody>\n",
       "</table>\n",
       "</div>"
      ],
      "text/plain": [
       "   sym                date   return\n",
       "3  ALE 2015-01-16 05:00:00  1.54638"
      ]
     },
     "execution_count": 122,
     "metadata": {},
     "output_type": "execute_result"
    }
   ],
   "source": [
    "mask=(ptwt['sym']=='ALE')&(ptwt['date']>='2015-1')&(ptwt['date']<='2015-12')\n",
    "ptwt[mask]"
   ]
  }
 ],
 "metadata": {
  "kernelspec": {
   "display_name": "Python 3",
   "language": "python",
   "name": "python3"
  },
  "language_info": {
   "codemirror_mode": {
    "name": "ipython",
    "version": 3
   },
   "file_extension": ".py",
   "mimetype": "text/x-python",
   "name": "python",
   "nbconvert_exporter": "python",
   "pygments_lexer": "ipython3",
   "version": "3.5.1"
  }
 },
 "nbformat": 4,
 "nbformat_minor": 0
}
