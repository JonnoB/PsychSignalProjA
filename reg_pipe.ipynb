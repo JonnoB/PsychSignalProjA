{
 "cells": [
  {
   "cell_type": "code",
   "execution_count": 91,
   "metadata": {
    "collapsed": true
   },
   "outputs": [],
   "source": [
    "import pandas as pd\n",
    "import numpy as np\n",
    "from numpy import random as r\n",
    "from matplotlib import pyplot as plt"
   ]
  },
  {
   "cell_type": "code",
   "execution_count": 92,
   "metadata": {
    "collapsed": false
   },
   "outputs": [],
   "source": [
    "path=\"/home/stan/Documents/dev/psignal/Data/\"\n",
    "pureTwt='twitter_noretweets_daily.csv'\n",
    "ptwt=pd.read_csv(filepath_or_buffer=path+pureTwt,delimiter=\",\",header=0)\n",
    "ptwt=ptwt.sample(n=1000)\n",
    "ptwt.to_csv(\"sample ptwt.csv\")"
   ]
  },
  {
   "cell_type": "code",
   "execution_count": 95,
   "metadata": {
    "collapsed": false
   },
   "outputs": [],
   "source": [
    "sampleTWT='sample ptwt.csv'\n",
    "ptwt=pd.read_csv(filepath_or_buffer='/home/stan/Documents/dev/psignal/'+sampleTWT,delimiter=\",\",header=0)"
   ]
  },
  {
   "cell_type": "code",
   "execution_count": 96,
   "metadata": {
    "collapsed": false
   },
   "outputs": [],
   "source": [
    "ptwt['TIMESTAMP_UTC']=pd.to_datetime(arg=ptwt.TIMESTAMP_UTC,infer_datetime_format='true')\n",
    "cols=['SYMBOL','TIMESTAMP_UTC']\n",
    "ptwt=ptwt.reindex(columns=cols)\n",
    "ptwt.columns=['sym','date']\n",
    "ptwt['return']=r.randn(len(mini_twt))"
   ]
  },
  {
   "cell_type": "code",
   "execution_count": 97,
   "metadata": {
    "collapsed": false
   },
   "outputs": [
    {
     "data": {
      "text/html": [
       "<div>\n",
       "<table border=\"1\" class=\"dataframe\">\n",
       "  <thead>\n",
       "    <tr style=\"text-align: right;\">\n",
       "      <th></th>\n",
       "      <th>sym</th>\n",
       "      <th>date</th>\n",
       "      <th>return</th>\n",
       "    </tr>\n",
       "  </thead>\n",
       "  <tbody>\n",
       "    <tr>\n",
       "      <th>0</th>\n",
       "      <td>NVS</td>\n",
       "      <td>2014-05-07 04:00:00</td>\n",
       "      <td>-0.022227</td>\n",
       "    </tr>\n",
       "    <tr>\n",
       "      <th>1</th>\n",
       "      <td>AET</td>\n",
       "      <td>2014-06-04 04:00:00</td>\n",
       "      <td>-0.143822</td>\n",
       "    </tr>\n",
       "    <tr>\n",
       "      <th>2</th>\n",
       "      <td>FLIC</td>\n",
       "      <td>2013-04-06 04:00:00</td>\n",
       "      <td>-0.932955</td>\n",
       "    </tr>\n",
       "    <tr>\n",
       "      <th>3</th>\n",
       "      <td>ALE</td>\n",
       "      <td>2015-01-16 05:00:00</td>\n",
       "      <td>1.546380</td>\n",
       "    </tr>\n",
       "    <tr>\n",
       "      <th>4</th>\n",
       "      <td>GSAT</td>\n",
       "      <td>2013-01-02 05:00:00</td>\n",
       "      <td>-0.561737</td>\n",
       "    </tr>\n",
       "  </tbody>\n",
       "</table>\n",
       "</div>"
      ],
      "text/plain": [
       "    sym                date    return\n",
       "0   NVS 2014-05-07 04:00:00 -0.022227\n",
       "1   AET 2014-06-04 04:00:00 -0.143822\n",
       "2  FLIC 2013-04-06 04:00:00 -0.932955\n",
       "3   ALE 2015-01-16 05:00:00  1.546380\n",
       "4  GSAT 2013-01-02 05:00:00 -0.561737"
      ]
     },
     "execution_count": 97,
     "metadata": {},
     "output_type": "execute_result"
    }
   ],
   "source": [
    "ptwt.head()"
   ]
  },
  {
   "cell_type": "code",
   "execution_count": 126,
   "metadata": {
    "collapsed": false
   },
   "outputs": [
    {
     "data": {
      "text/html": [
       "<div>\n",
       "<table border=\"1\" class=\"dataframe\">\n",
       "  <thead>\n",
       "    <tr style=\"text-align: right;\">\n",
       "      <th></th>\n",
       "      <th>date</th>\n",
       "      <th>return</th>\n",
       "    </tr>\n",
       "  </thead>\n",
       "  <tbody>\n",
       "    <tr>\n",
       "      <th>0</th>\n",
       "      <td>2010-01-01</td>\n",
       "      <td>-0.078026</td>\n",
       "    </tr>\n",
       "    <tr>\n",
       "      <th>1</th>\n",
       "      <td>2010-01-02</td>\n",
       "      <td>0.921009</td>\n",
       "    </tr>\n",
       "    <tr>\n",
       "      <th>2</th>\n",
       "      <td>2010-01-03</td>\n",
       "      <td>-0.569918</td>\n",
       "    </tr>\n",
       "    <tr>\n",
       "      <th>3</th>\n",
       "      <td>2010-01-04</td>\n",
       "      <td>0.352940</td>\n",
       "    </tr>\n",
       "    <tr>\n",
       "      <th>4</th>\n",
       "      <td>2010-01-05</td>\n",
       "      <td>1.514005</td>\n",
       "    </tr>\n",
       "  </tbody>\n",
       "</table>\n",
       "</div>"
      ],
      "text/plain": [
       "        date    return\n",
       "0 2010-01-01 -0.078026\n",
       "1 2010-01-02  0.921009\n",
       "2 2010-01-03 -0.569918\n",
       "3 2010-01-04  0.352940\n",
       "4 2010-01-05  1.514005"
      ]
     },
     "execution_count": 126,
     "metadata": {},
     "output_type": "execute_result"
    }
   ],
   "source": [
    "sp500=pd.DataFrame({'date':pd.date_range(start='2010-01-01',end='2015-12-31',frequency=\"D\"),\\\n",
    "                    'return':r.randn(len(pd.date_range(start='2010-01-01',end='2015-12-31',frequency=\"D\")))})\n",
    "sp500.head()"
   ]
  },
  {
   "cell_type": "code",
   "execution_count": 120,
   "metadata": {
    "collapsed": false
   },
   "outputs": [
    {
     "data": {
      "text/plain": [
       "'2010-01'"
      ]
     },
     "execution_count": 120,
     "metadata": {},
     "output_type": "execute_result"
    }
   ],
   "source": [
    "windows=pd.period_range(start='2010',end='2015',freq=\"M\")\n",
    "windows=windows.format()\n",
    "windows[0]"
   ]
  },
  {
   "cell_type": "code",
   "execution_count": null,
   "metadata": {
    "collapsed": true
   },
   "outputs": [],
   "source": [
    "import <regression> as reg\n",
    "for stock in ptwt['sym'].unique():\n",
    "    for window_end_idx in range(1,len(windows)):\n",
    "        mask=(ptwt['sym']==stock)&(ptwt['date']>=windows[window_end_idx-1])&(ptwt['date']<windows[window_end_idx])\n",
    "        tmp=ptwp[mask]\n",
    "        r_t_plus_one=tmp['return'].ix[1:]\n",
    "        r_t=tmp['return'].ix[0:len(tmp)-1]\n",
    "        mask_market_index=(ptwt['date']>=windows[window_end_idx-1])&(ptwt['date']<windows[window_end_idx])\n",
    "        market_index=SP500[mask].ix[0:len(tmp)-1] #check and correct for stationarity\n",
    "        SIR=ptwt[mask_market_index].groupby('cluster','date').mean() #compute mean return for each day and cluster\n",
    "        stationarity_test=reg.adftest(r_t_plus_one, kind=\"c\")\n",
    "        while (stationarity_test):\n",
    "            r_t_plus_one=reg.takeFirstDifference(r_t_plus_one)\n",
    "            r_t=reg.takeFirstDifference(r_t)\n",
    "            stationarity_test=reg.adftest(r_t_plus_one, kind=\"c\")\n",
    "        tmp_reg=reg.GLS(y=r_t_plus_one,x=[r_t,market_index],include_constant=True,return_residuals=True)\n",
    "        tmp_reg_prime=reg.GLS(y=tmp_reg.residuals,x=[r_t,SIR],include_constant=True,return_residuals=True)\n",
    "        regression[(stock, window)]=(tmp_reg,tmp_reg_prime)"
   ]
  },
  {
   "cell_type": "code",
   "execution_count": 122,
   "metadata": {
    "collapsed": false
   },
   "outputs": [
    {
     "data": {
      "text/html": [
       "<div>\n",
       "<table border=\"1\" class=\"dataframe\">\n",
       "  <thead>\n",
       "    <tr style=\"text-align: right;\">\n",
       "      <th></th>\n",
       "      <th>sym</th>\n",
       "      <th>date</th>\n",
       "      <th>return</th>\n",
       "    </tr>\n",
       "  </thead>\n",
       "  <tbody>\n",
       "    <tr>\n",
       "      <th>3</th>\n",
       "      <td>ALE</td>\n",
       "      <td>2015-01-16 05:00:00</td>\n",
       "      <td>1.54638</td>\n",
       "    </tr>\n",
       "  </tbody>\n",
       "</table>\n",
       "</div>"
      ],
      "text/plain": [
       "   sym                date   return\n",
       "3  ALE 2015-01-16 05:00:00  1.54638"
      ]
     },
     "execution_count": 122,
     "metadata": {},
     "output_type": "execute_result"
    }
   ],
   "source": [
    "mask=(ptwt['sym']=='ALE')&(ptwt['date']>='2015-1')&(ptwt['date']<='2015-12')\n",
    "ptwt[mask]"
   ]
  }
 ],
 "metadata": {
  "kernelspec": {
   "display_name": "Python 3",
   "language": "python",
   "name": "python3"
  },
  "language_info": {
   "codemirror_mode": {
    "name": "ipython",
    "version": 3
   },
   "file_extension": ".py",
   "mimetype": "text/x-python",
   "name": "python",
   "nbconvert_exporter": "python",
   "pygments_lexer": "ipython3",
   "version": "3.5.1"
  }
 },
 "nbformat": 4,
 "nbformat_minor": 0
}
