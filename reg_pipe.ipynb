{
 "cells": [
  {
   "cell_type": "code",
   "execution_count": 1,
   "metadata": {},
   "outputs": [],
   "source": [
    "import pandas as pd\n",
    "import numpy as np\n",
    "from numpy import random as r\n",
    "from matplotlib import pyplot as plt"
   ]
  },
  {
   "cell_type": "code",
   "execution_count": 4,
   "metadata": {},
   "outputs": [],
   "source": [
    "import Quandl as q\n",
    "path=\"C:\\\\dev\\\\psignal\\\\data\\\\\""
   ]
  },
  {
   "cell_type": "code",
   "execution_count": 3,
   "metadata": {},
   "outputs": [
    {
     "data": {
      "text/html": [
       "<div>\n",
       "<table border=\"1\" class=\"dataframe\">\n",
       "  <thead>\n",
       "    <tr style=\"text-align: right;\">\n",
       "      <th></th>\n",
       "      <th>sym</th>\n",
       "      <th>date</th>\n",
       "      <th>cluster</th>\n",
       "    </tr>\n",
       "  </thead>\n",
       "  <tbody>\n",
       "    <tr>\n",
       "      <th>354265</th>\n",
       "      <td>ARMH</td>\n",
       "      <td>2014-06-26 04:00:00</td>\n",
       "      <td>2</td>\n",
       "    </tr>\n",
       "    <tr>\n",
       "      <th>4529212</th>\n",
       "      <td>SODA</td>\n",
       "      <td>2015-03-29 04:00:00</td>\n",
       "      <td>1</td>\n",
       "    </tr>\n",
       "    <tr>\n",
       "      <th>66103</th>\n",
       "      <td>ACO</td>\n",
       "      <td>2014-03-12 04:00:00</td>\n",
       "      <td>1</td>\n",
       "    </tr>\n",
       "    <tr>\n",
       "      <th>433856</th>\n",
       "      <td>AUDUSD</td>\n",
       "      <td>2013-03-04 05:00:00</td>\n",
       "      <td>4</td>\n",
       "    </tr>\n",
       "    <tr>\n",
       "      <th>803372</th>\n",
       "      <td>CARA</td>\n",
       "      <td>2014-06-20 04:00:00</td>\n",
       "      <td>1</td>\n",
       "    </tr>\n",
       "  </tbody>\n",
       "</table>\n",
       "</div>"
      ]
     },
     "output_type": "execute_result",
     "metadata": {}
    }
   ],
   "source": [
    "#create a sample\n",
    "pureTwt='twitter_noretweets_daily.csv'\n",
    "ptwt=pd.read_csv(filepath_or_buffer=path+pureTwt,delimiter=\",\",header=0)\n",
    "ptwt=ptwt.sample(n=1000)\n",
    "ptwt['TIMESTAMP_UTC']=pd.to_datetime(arg=ptwt.TIMESTAMP_UTC,infer_datetime_format='true',unit='D')\n",
    "#ptwt['TIMESTAMP_UTC']=pd.to_datetime(arg=ptwt.TIMESTAMP_UTC,format='%Y%m%d')\n",
    "cols=['SYMBOL','TIMESTAMP_UTC']\n",
    "ptwt=ptwt.reindex(columns=cols)\n",
    "ptwt.columns=['sym','date']\n",
    "ptwt['cluster']=r.randint(low=1,high=5,size=len(ptwt))\n",
    "ptwt.to_csv(\"sample ptwt.csv\")\n",
    "#this is how data should look like after clustring\n",
    "ptwt.head()"
   ]
  },
  {
   "cell_type": "code",
   "execution_count": 7,
   "metadata": {},
   "outputs": [],
   "source": [
    "#if sample already exists use this to import it\n",
    "sampleTWT='sample ptwt.csv'\n",
    "ptwt=pd.read_csv(filepath_or_buffer=path+sampleTWT,delimiter=\",\",header=0)\n",
    "ptwt['date']=pd.to_datetime(arg=ptwt.date,infer_datetime_format='true',unit='D')"
   ]
  },
  {
   "cell_type": "code",
   "execution_count": 8,
   "metadata": {},
   "outputs": [
    {
     "data": {
      "text/html": [
       "<div>\n",
       "<table border=\"1\" class=\"dataframe\">\n",
       "  <thead>\n",
       "    <tr style=\"text-align: right;\">\n",
       "      <th></th>\n",
       "      <th>Unnamed: 0</th>\n",
       "      <th>sym</th>\n",
       "      <th>date</th>\n",
       "      <th>cluster</th>\n",
       "    </tr>\n",
       "  </thead>\n",
       "  <tbody>\n",
       "    <tr>\n",
       "      <th>0</th>\n",
       "      <td>3036178</td>\n",
       "      <td>LULU</td>\n",
       "      <td>2011-04-06 04:00:00</td>\n",
       "      <td>1</td>\n",
       "    </tr>\n",
       "    <tr>\n",
       "      <th>1</th>\n",
       "      <td>1081119</td>\n",
       "      <td>CONGLOMERATES</td>\n",
       "      <td>2011-12-14 05:00:00</td>\n",
       "      <td>2</td>\n",
       "    </tr>\n",
       "    <tr>\n",
       "      <th>2</th>\n",
       "      <td>204689</td>\n",
       "      <td>ALKS</td>\n",
       "      <td>2012-08-11 04:00:00</td>\n",
       "      <td>2</td>\n",
       "    </tr>\n",
       "    <tr>\n",
       "      <th>3</th>\n",
       "      <td>1105968</td>\n",
       "      <td>CP.CA</td>\n",
       "      <td>2014-09-23 04:00:00</td>\n",
       "      <td>2</td>\n",
       "    </tr>\n",
       "    <tr>\n",
       "      <th>4</th>\n",
       "      <td>3603262</td>\n",
       "      <td>NZ</td>\n",
       "      <td>2011-02-23 05:00:00</td>\n",
       "      <td>2</td>\n",
       "    </tr>\n",
       "  </tbody>\n",
       "</table>\n",
       "</div>"
      ]
     },
     "output_type": "execute_result",
     "metadata": {}
    }
   ],
   "source": [
    "ptwt.head()"
   ]
  },
  {
   "cell_type": "code",
   "execution_count": 9,
   "metadata": {},
   "outputs": [],
   "source": [
    "def toYMD(x):\n",
    "    return x.date()\n",
    "ptwt['date']=ptwt['date'].map(toYMD)"
   ]
  },
  {
   "cell_type": "code",
   "execution_count": 10,
   "metadata": {},
   "outputs": [
    {
     "data": {
      "text/html": [
       "<div>\n",
       "<table border=\"1\" class=\"dataframe\">\n",
       "  <thead>\n",
       "    <tr style=\"text-align: right;\">\n",
       "      <th></th>\n",
       "      <th>Unnamed: 0</th>\n",
       "      <th>sym</th>\n",
       "      <th>date</th>\n",
       "      <th>cluster</th>\n",
       "    </tr>\n",
       "  </thead>\n",
       "  <tbody>\n",
       "    <tr>\n",
       "      <th>0</th>\n",
       "      <td>3036178</td>\n",
       "      <td>LULU</td>\n",
       "      <td>2011-04-06</td>\n",
       "      <td>1</td>\n",
       "    </tr>\n",
       "    <tr>\n",
       "      <th>1</th>\n",
       "      <td>1081119</td>\n",
       "      <td>CONGLOMERATES</td>\n",
       "      <td>2011-12-14</td>\n",
       "      <td>2</td>\n",
       "    </tr>\n",
       "    <tr>\n",
       "      <th>2</th>\n",
       "      <td>204689</td>\n",
       "      <td>ALKS</td>\n",
       "      <td>2012-08-11</td>\n",
       "      <td>2</td>\n",
       "    </tr>\n",
       "    <tr>\n",
       "      <th>3</th>\n",
       "      <td>1105968</td>\n",
       "      <td>CP.CA</td>\n",
       "      <td>2014-09-23</td>\n",
       "      <td>2</td>\n",
       "    </tr>\n",
       "    <tr>\n",
       "      <th>4</th>\n",
       "      <td>3603262</td>\n",
       "      <td>NZ</td>\n",
       "      <td>2011-02-23</td>\n",
       "      <td>2</td>\n",
       "    </tr>\n",
       "  </tbody>\n",
       "</table>\n",
       "</div>"
      ]
     },
     "output_type": "execute_result",
     "metadata": {}
    }
   ],
   "source": [
    "ptwt.head()"
   ]
  },
  {
   "cell_type": "code",
   "execution_count": 41,
   "metadata": {},
   "outputs": [
    {
     "name": "stdout",
     "output_type": "stream",
     "text": [
      "Dataset LULU not found!\n",
      "Dataset CONGLOMERATES not found!\n",
      "   Unnamed: 0            sym       date  cluster  Adj. Close\n",
      "0     3036178           LULU 2011-04-06        1         NaN\n",
      "1     1081119  CONGLOMERATES 2011-12-14        2         NaN\n",
      "2      204689           ALKS 2012-08-11        2         NaN\n",
      "3     1105968          CP.CA 2014-09-23        2         NaN\n",
      "4     3603262             NZ 2011-02-23        2         NaN\n"
     ]
    }
   ],
   "source": [
    "#data is imported from clustering stage\n",
    "#data = pd.read_csv('../data/data2010to2015.csv')\n",
    "#format is: date | sym  | cluster\n",
    "#date is daily\n",
    "#sym is cashtag/ticker\n",
    "#cluster is a number that indicates cluster\n",
    "data=ptwt\n",
    "tickers = ['LULU','CONGLOMERATES','ALKS'] #data['sym'].unique()\n",
    "#rdata=pd.DataFrame({})\n",
    "for sym in tickers:   \n",
    "    try:\n",
    "        #can later expand this to include search from other db than WIKI\n",
    "        tmp=q.get(dataset=(\"WIKI/\"+sym+\".11\"),trim_start='2010-01-01', trim_end='2016-01-01', transformation='rdiff',\\\n",
    "                  authtoken=\"c54mBskiz_BsF4vWWL2s\")\n",
    "        tmp['sym']=sym\n",
    "        tmp['date']=tmp.index\n",
    "        tmp['date']=tmp['date'].map(toYMD)\n",
    "    except:\n",
    "        tmp= pd.DataFrame({'sym':[],'date':[]})\n",
    "        print(\"Dataset \"+sym+\" not found!\")\n",
    "    data=pd.merge(data,tmp,on=['sym','date'],how='left') #assumes date in data is indeed daily\n",
    "\n",
    "print(data.head())\n",
    "\n",
    "mi = q.get(\"YAHOO/INDEX_GSPC.6\",start_date='2010-01-01', end_date='2016-01-01', transformation='rdiff',\\\n",
    "                  authtoken=\"c54mBskiz_BsF4vWWL2s\")"
   ]
  },
  {
   "cell_type": "code",
   "execution_count": 55,
   "metadata": {},
   "outputs": [
    {
     "ename": "AttributeError",
     "evalue": "'module' object has no attribute 'randn'",
     "output_type": "error",
     "traceback": [
      "\u001b[1;31m---------------------------------------------------------------------------\u001b[0m",
      "\u001b[1;31mAttributeError\u001b[0m                            Traceback (most recent call last)",
      "\u001b[1;32m<ipython-input-55-4735211701f1>\u001b[0m in \u001b[0;36m<module>\u001b[1;34m()\u001b[0m\n\u001b[0;32m      1\u001b[0m \u001b[0ma\u001b[0m\u001b[1;33m=\u001b[0m\u001b[0mpd\u001b[0m\u001b[1;33m.\u001b[0m\u001b[0mdate_range\u001b[0m\u001b[1;33m(\u001b[0m\u001b[0mstart\u001b[0m\u001b[1;33m=\u001b[0m\u001b[1;34m'2010-01-01'\u001b[0m\u001b[1;33m,\u001b[0m\u001b[0mend\u001b[0m\u001b[1;33m=\u001b[0m\u001b[1;34m'2015-01-01'\u001b[0m\u001b[1;33m,\u001b[0m\u001b[0mfreq\u001b[0m\u001b[1;33m=\u001b[0m\u001b[1;34m'1M'\u001b[0m\u001b[1;33m)\u001b[0m\u001b[1;33m\u001b[0m\u001b[0m\n\u001b[1;32m----> 2\u001b[1;33m \u001b[0mts\u001b[0m\u001b[1;33m=\u001b[0m\u001b[0mpd\u001b[0m\u001b[1;33m.\u001b[0m\u001b[0mDataFrame\u001b[0m\u001b[1;33m(\u001b[0m\u001b[1;33m{\u001b[0m\u001b[1;34m'r'\u001b[0m\u001b[1;33m:\u001b[0m \u001b[0mnp\u001b[0m\u001b[1;33m.\u001b[0m\u001b[0mrandn\u001b[0m\u001b[1;33m(\u001b[0m\u001b[0mlen\u001b[0m\u001b[1;33m(\u001b[0m\u001b[0ma\u001b[0m\u001b[1;33m)\u001b[0m\u001b[1;33m,\u001b[0m\u001b[1;36m1\u001b[0m\u001b[1;33m)\u001b[0m\u001b[1;33m}\u001b[0m\u001b[1;33m)\u001b[0m\u001b[1;33m\u001b[0m\u001b[0m\n\u001b[0m\u001b[0;32m      3\u001b[0m \u001b[0mts\u001b[0m\u001b[1;33m.\u001b[0m\u001b[0mset_index\u001b[0m\u001b[1;33m(\u001b[0m\u001b[0ma\u001b[0m\u001b[1;33m)\u001b[0m\u001b[1;33m\u001b[0m\u001b[0m\n\u001b[0;32m      4\u001b[0m \u001b[0mts\u001b[0m\u001b[1;33m.\u001b[0m\u001b[0mresample\u001b[0m\u001b[1;33m(\u001b[0m\u001b[1;34m'2M'\u001b[0m\u001b[1;33m)\u001b[0m\u001b[1;33m\u001b[0m\u001b[0m\n",
      "\u001b[1;31mAttributeError\u001b[0m: 'module' object has no attribute 'randn'"
     ]
    }
   ],
   "source": [
    "a=pd.date_range(start='2010-01-01',end='2015-01-01',freq='1M')\n",
    "ts=pd.DataFrame({'r': np.randn(len(a),1)})\n",
    "ts.set_index(a)\n",
    "ts.resample('2M')"
   ]
  },
  {
   "cell_type": "code",
   "execution_count": 49,
   "metadata": {},
   "outputs": [
    {
     "data": {
      "text/plain": [
       "Series([], Name: date, dtype: object)"
      ]
     },
     "execution_count": 49,
     "output_type": "execute_result",
     "metadata": {}
    }
   ],
   "source": [
    "tmp['date'][tmp['date']=='2012-08-20']"
   ]
  },
  {
   "cell_type": "code",
   "execution_count": 35,
   "metadata": {},
   "outputs": [
    {
     "data": {
      "text/plain": [
       "Unnamed: 0        int64\n",
       "sym              object\n",
       "date             object\n",
       "cluster           int64\n",
       "Adj. Close_x    float64\n",
       "Adj. Close_y    float64\n",
       "Adj. Close      float64\n",
       "dtype: object"
      ]
     },
     "execution_count": 35,
     "output_type": "execute_result",
     "metadata": {}
    }
   ],
   "source": [
    "data.dtypes"
   ]
  },
  {
   "cell_type": "code",
   "execution_count": 28,
   "metadata": {},
   "outputs": [
    {
     "data": {
      "text/html": [
       "<div>\n",
       "<table border=\"1\" class=\"dataframe\">\n",
       "  <thead>\n",
       "    <tr style=\"text-align: right;\">\n",
       "      <th></th>\n",
       "      <th>Adj. Close</th>\n",
       "    </tr>\n",
       "    <tr>\n",
       "      <th>Date</th>\n",
       "      <th></th>\n",
       "    </tr>\n",
       "  </thead>\n",
       "  <tbody>\n",
       "    <tr>\n",
       "      <th>2010-01-05</th>\n",
       "      <td>0.001729</td>\n",
       "    </tr>\n",
       "    <tr>\n",
       "      <th>2010-01-06</th>\n",
       "      <td>-0.015906</td>\n",
       "    </tr>\n",
       "    <tr>\n",
       "      <th>2010-01-07</th>\n",
       "      <td>-0.001849</td>\n",
       "    </tr>\n",
       "    <tr>\n",
       "      <th>2010-01-08</th>\n",
       "      <td>0.006648</td>\n",
       "    </tr>\n",
       "    <tr>\n",
       "      <th>2010-01-11</th>\n",
       "      <td>-0.008822</td>\n",
       "    </tr>\n",
       "  </tbody>\n",
       "</table>\n",
       "</div>"
      ]
     },
     "output_type": "execute_result",
     "metadata": {}
    }
   ],
   "source": [
    "sym='AAPL'\n",
    "tmp=q.get(dataset=(\"WIKI/\"+sym+'.11'),trim_start='2010-01-01', trim_end='2016-01-01', transformation='rdiff',\\\n",
    "                  authtoken=\"c54mBskiz_BsF4vWWL2s\")\n",
    "tmp.head()"
   ]
  },
  {
   "cell_type": "code",
   "execution_count": 14,
   "metadata": {},
   "outputs": [
    {
     "data": {
      "text/html": [
       "<div>\n",
       "<table border=\"1\" class=\"dataframe\">\n",
       "  <thead>\n",
       "    <tr style=\"text-align: right;\">\n",
       "      <th></th>\n",
       "      <th>Unnamed: 0</th>\n",
       "      <th>sym</th>\n",
       "      <th>date</th>\n",
       "      <th>cluster</th>\n",
       "    </tr>\n",
       "  </thead>\n",
       "  <tbody>\n",
       "    <tr>\n",
       "      <th>0</th>\n",
       "      <td>3036178</td>\n",
       "      <td>LULU</td>\n",
       "      <td>2011-04-06</td>\n",
       "      <td>1</td>\n",
       "    </tr>\n",
       "    <tr>\n",
       "      <th>1</th>\n",
       "      <td>1081119</td>\n",
       "      <td>CONGLOMERATES</td>\n",
       "      <td>2011-12-14</td>\n",
       "      <td>2</td>\n",
       "    </tr>\n",
       "    <tr>\n",
       "      <th>2</th>\n",
       "      <td>204689</td>\n",
       "      <td>ALKS</td>\n",
       "      <td>2012-08-11</td>\n",
       "      <td>2</td>\n",
       "    </tr>\n",
       "    <tr>\n",
       "      <th>3</th>\n",
       "      <td>1105968</td>\n",
       "      <td>CP.CA</td>\n",
       "      <td>2014-09-23</td>\n",
       "      <td>2</td>\n",
       "    </tr>\n",
       "    <tr>\n",
       "      <th>4</th>\n",
       "      <td>3603262</td>\n",
       "      <td>NZ</td>\n",
       "      <td>2011-02-23</td>\n",
       "      <td>2</td>\n",
       "    </tr>\n",
       "  </tbody>\n",
       "</table>\n",
       "</div>"
      ]
     },
     "output_type": "execute_result",
     "metadata": {}
    }
   ],
   "source": [
    "data.head()"
   ]
  },
  {
   "cell_type": "code",
   "execution_count": null,
   "metadata": {},
   "outputs": [],
   "source": [
    "def cumret(ts):\n",
    "    ts=np.add(ts,1)\n",
    "    ts=np.cumprod(ts)[len(ts)-1]\n",
    "    ts = ts-1\n",
    "    return ts\n",
    "\n",
    "data = data.resample(bmth_us, how=cumret)\n",
    "mi = mi.resample(bmth_us, how=cumret)"
   ]
  },
  {
   "cell_type": "code",
   "execution_count": 120,
   "metadata": {},
   "outputs": [
    {
     "data": {
      "text/plain": [
       "'2010-01'"
      ]
     },
     "execution_count": 120,
     "output_type": "execute_result",
     "metadata": {}
    }
   ],
   "source": [
    "windows=pd.period_range(start='2010',end='2016',freq=\"M\")\n",
    "windows=windows.format()\n",
    "windows[0]"
   ]
  },
  {
   "cell_type": "code",
   "execution_count": null,
   "metadata": {},
   "outputs": [],
   "source": [
    "import <regression> as reg\n",
    "for stock in ptwt['sym'].unique():\n",
    "    for window_end_idx in range(1,len(windows)):\n",
    "        mask=(ptwt['sym']==stock)&(ptwt['date']>=windows[window_end_idx-1])&(ptwt['date']<windows[window_end_idx])\n",
    "        tmp=ptwp[mask]\n",
    "        r_t_plus_one=tmp['return'].ix[1:]\n",
    "        r_t=tmp['return'].ix[0:len(tmp)-1]\n",
    "        mask_market_index=(ptwt['date']>=windows[window_end_idx-1])&(ptwt['date']<windows[window_end_idx])\n",
    "        market_index=SP500[mask].ix[0:len(tmp)-1] #check and correct for stationarity\n",
    "        SIR=ptwt[mask_market_index].groupby('cluster','date').mean() #compute mean return for each day and cluster\n",
    "        stationarity_test=reg.adftest(r_t_plus_one, kind=\"c\")\n",
    "        while (stationarity_test):\n",
    "            r_t_plus_one=reg.takeFirstDifference(r_t_plus_one)\n",
    "            r_t=reg.takeFirstDifference(r_t)\n",
    "            stationarity_test=reg.adftest(r_t_plus_one, kind=\"c\")\n",
    "        tmp_reg=reg.GLS(y=r_t_plus_one,x=[r_t,market_index],include_constant=True,return_residuals=True)\n",
    "        tmp_reg_prime=reg.GLS(y=tmp_reg.residuals,x=[r_t,SIR],include_constant=True,return_residuals=True)\n",
    "        regression[(stock, window)]=(tmp_reg,tmp_reg_prime)"
   ]
  },
  {
   "cell_type": "code",
   "execution_count": 122,
   "metadata": {},
   "outputs": [
    {
     "data": {
      "text/html": [
       "<div>\n",
       "<table border=\"1\" class=\"dataframe\">\n",
       "  <thead>\n",
       "    <tr style=\"text-align: right;\">\n",
       "      <th></th>\n",
       "      <th>sym</th>\n",
       "      <th>date</th>\n",
       "      <th>return</th>\n",
       "    </tr>\n",
       "  </thead>\n",
       "  <tbody>\n",
       "    <tr>\n",
       "      <th>3</th>\n",
       "      <td>ALE</td>\n",
       "      <td>2015-01-16 05:00:00</td>\n",
       "      <td>1.54638</td>\n",
       "    </tr>\n",
       "  </tbody>\n",
       "</table>\n",
       "</div>"
      ]
     },
     "output_type": "execute_result",
     "metadata": {}
    }
   ],
   "source": [
    "mask=(ptwt['sym']=='ALE')&(ptwt['date']>='2015-1')&(ptwt['date']<='2015-12')\n",
    "ptwt[mask]"
   ]
  }
 ],
 "metadata": {
  "kernelspec": {
   "display_name": "Python 3",
   "language": "python",
   "name": "python3"
  },
  "language_info": {
   "codemirror_mode": {
    "name": "ipython",
    "version": 3.0
   },
   "file_extension": ".py",
   "mimetype": "text/x-python",
   "name": "python",
   "nbconvert_exporter": "python",
   "pygments_lexer": "ipython3",
   "version": "3.4.3"
  }
 },
 "nbformat": 4,
 "nbformat_minor": 0
}